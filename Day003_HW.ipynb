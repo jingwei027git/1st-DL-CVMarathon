{
 "cells": [
  {
   "cell_type": "markdown",
   "metadata": {},
   "source": [
    "# Python 下載XML檔案與解析\n",
    "\n",
    "\n",
    "* 了解 xml 檔案格式與內容\n",
    "* 能夠利用套件存取 xml 格式的檔案\n"
   ]
  },
  {
   "cell_type": "markdown",
   "metadata": {},
   "source": [
    "## 作業目標\n",
    "\n",
    "* 比較一下範例檔案中的「File I/O」與「xmltodict」讀出來的內容有什麼差異\n",
    "\n",
    "* 根據範例檔案的結果：\n",
    "    1. 請問高雄市有多少地區有溫度資料？\n",
    "    2. 請取出每一個地區所記錄的第一個時間點跟溫度\n",
    "    3. 請取出第一個地區所記錄的每一個時間點跟溫度"
   ]
  },
  {
   "cell_type": "markdown",
   "metadata": {},
   "source": [
    "### 比較一下範例檔案中的「File I/O」與「xmltodict」讀出來的內容有什麼差異\n"
   ]
  },
  {
   "cell_type": "code",
   "execution_count": null,
   "metadata": {},
   "outputs": [],
   "source": [
    "'''\n",
    "範例檔中的「File I/O」是將其原資料文字檔直接輸出未經處理；「xmltodict」的話會將xml轉成dict(map/json)結構。\n",
    "'''"
   ]
  },
  {
   "cell_type": "markdown",
   "metadata": {},
   "source": [
    "### 根據範例檔案的結果：\n",
    "\n",
    "1. 請問高雄市有多少地區有溫度資料？\n",
    "2. 請取出每一個地區所記錄的第一個時間點跟溫度\n",
    "3. 請取出第一個地區所記錄的每一個時間點跟溫度"
   ]
  },
  {
   "cell_type": "code",
   "execution_count": 2,
   "metadata": {
    "tags": [
     "outputPrepend"
    ]
   },
   "outputs": [
    {
     "output_type": "stream",
     "name": "stdout",
     "text": "00+08:00</dataTime>\n            <elementValue>\n              <value>26</value>\n              <measures>攝氏度</measures>\n            </elementValue>\n          </time>\n          <time>\n            <dataTime>2020-11-25T15:00:00+08:00</dataTime>\n            <elementValue>\n              <value>24</value>\n              <measures>攝氏度</measures>\n            </elementValue>\n          </time>\n          <time>\n            <dataTime>2020-11-25T18:00:00+08:00</dataTime>\n            <elementValue>\n              <value>20</value>\n              <measures>攝氏度</measures>\n            </elementValue>\n          </time>\n          <time>\n            <dataTime>2020-11-25T21:00:00+08:00</dataTime>\n            <elementValue>\n              <value>19</value>\n              <measures>攝氏度</measures>\n            </elementValue>\n          </time>\n          <time>\n            <dataTime>2020-11-26T00:00:00+08:00</dataTime>\n            <elementValue>\n              <value>19</value>\n              <measures>攝氏度</measures>\n            </elementValue>\n          </time>\n          <time>\n            <dataTime>2020-11-26T03:00:00+08:00</dataTime>\n            <elementValue>\n              <value>18</value>\n              <measures>攝氏度</measures>\n            </elementValue>\n          </time>\n          <time>\n            <dataTime>2020-11-26T06:00:00+08:00</dataTime>\n            <elementValue>\n              <value>18</value>\n              <measures>攝氏度</measures>\n            </elementValue>\n          </time>\n          <time>\n            <dataTime>2020-11-26T09:00:00+08:00</dataTime>\n            <elementValue>\n              <value>23</value>\n              <measures>攝氏度</measures>\n            </elementValue>\n          </time>\n        </weatherElement>\n        <weatherElement>\n          <elementName>Wx</elementName>\n          <description>天氣現象</description>\n          <time>\n            <startTime>2020-11-23T12:00:00+08:00</startTime>\n            <endTime>2020-11-23T15:00:00+08:00</endTime>\n            <elementValue>\n              <value>多雲</value>\n              <measures>自定義 Wx 文字</measures>\n            </elementValue>\n            <elementValue>\n              <value>04</value>\n              <measures>自定義 Wx 單位</measures>\n            </elementValue>\n          </time>\n          <time>\n            <startTime>2020-11-23T15:00:00+08:00</startTime>\n            <endTime>2020-11-23T18:00:00+08:00</endTime>\n            <elementValue>\n              <value>多雲</value>\n              <measures>自定義 Wx 文字</measures>\n            </elementValue>\n            <elementValue>\n              <value>04</value>\n              <measures>自定義 Wx 單位</measures>\n            </elementValue>\n          </time>\n          <time>\n            <startTime>2020-11-23T18:00:00+08:00</startTime>\n            <endTime>2020-11-23T21:00:00+08:00</endTime>\n            <elementValue>\n              <value>晴</value>\n              <measures>自定義 Wx 文字</measures>\n            </elementValue>\n            <elementValue>\n              <value>01</value>\n              <measures>自定義 Wx 單位</measures>\n            </elementValue>\n          </time>\n          <time>\n            <startTime>2020-11-23T21:00:00+08:00</startTime>\n            <endTime>2020-11-24T00:00:00+08:00</endTime>\n            <elementValue>\n              <value>晴</value>\n              <measures>自定義 Wx 文字</measures>\n            </elementValue>\n            <elementValue>\n              <value>01</value>\n              <measures>自定義 Wx 單位</measures>\n            </elementValue>\n          </time>\n          <time>\n            <startTime>2020-11-24T00:00:00+08:00</startTime>\n            <endTime>2020-11-24T03:00:00+08:00</endTime>\n            <elementValue>\n              <value>晴</value>\n              <measures>自定義 Wx 文字</measures>\n            </elementValue>\n            <elementValue>\n              <value>01</value>\n              <measures>自定義 Wx 單位</measures>\n            </elementValue>\n          </time>\n          <time>\n            <startTime>2020-11-24T03:00:00+08:00</startTime>\n            <endTime>2020-11-24T06:00:00+08:00</endTime>\n            <elementValue>\n              <value>多雲</value>\n              <measures>自定義 Wx 文字</measures>\n            </elementValue>\n            <elementValue>\n              <value>04</value>\n              <measures>自定義 Wx 單位</measures>\n            </elementValue>\n          </time>\n          <time>\n            <startTime>2020-11-24T06:00:00+08:00</startTime>\n            <endTime>2020-11-24T09:00:00+08:00</endTime>\n            <elementValue>\n              <value>晴</value>\n              <measures>自定義 Wx 文字</measures>\n            </elementValue>\n            <elementValue>\n              <value>01</value>\n              <measures>自定義 Wx 單位</measures>\n            </elementValue>\n          </time>\n          <time>\n            <startTime>2020-11-24T09:00:00+08:00</startTime>\n            <endTime>2020-11-24T12:00:00+08:00</endTime>\n            <elementValue>\n              <value>多雲</value>\n              <measures>自定義 Wx 文字</measures>\n            </elementValue>\n            <elementValue>\n              <value>04</value>\n              <measures>自定義 Wx 單位</measures>\n            </elementValue>\n          </time>\n          <time>\n            <startTime>2020-11-24T12:00:00+08:00</startTime>\n            <endTime>2020-11-24T15:00:00+08:00</endTime>\n            <elementValue>\n              <value>陰</value>\n              <measures>自定義 Wx 文字</measures>\n            </elementValue>\n            <elementValue>\n              <value>07</value>\n              <measures>自定義 Wx 單位</measures>\n            </elementValue>\n          </time>\n          <time>\n            <startTime>2020-11-24T15:00:00+08:00</startTime>\n            <endTime>2020-11-24T18:00:00+08:00</endTime>\n            <elementValue>\n              <value>陰</value>\n              <measures>自定義 Wx 文字</measures>\n            </elementValue>\n            <elementValue>\n              <value>07</value>\n              <measures>自定義 Wx 單位</measures>\n            </elementValue>\n          </time>\n          <time>\n            <startTime>2020-11-24T18:00:00+08:00</startTime>\n            <endTime>2020-11-24T21:00:00+08:00</endTime>\n            <elementValue>\n              <value>晴</value>\n              <measures>自定義 Wx 文字</measures>\n            </elementValue>\n            <elementValue>\n              <value>01</value>\n              <measures>自定義 Wx 單位</measures>\n            </elementValue>\n          </time>\n          <time>\n            <startTime>2020-11-24T21:00:00+08:00</startTime>\n            <endTime>2020-11-25T00:00:00+08:00</endTime>\n            <elementValue>\n              <value>多雲</value>\n              <measures>自定義 Wx 文字</measures>\n            </elementValue>\n            <elementValue>\n              <value>04</value>\n              <measures>自定義 Wx 單位</measures>\n            </elementValue>\n          </time>\n          <time>\n            <startTime>2020-11-25T00:00:00+08:00</startTime>\n            <endTime>2020-11-25T03:00:00+08:00</endTime>\n            <elementValue>\n              <value>晴</value>\n              <measures>自定義 Wx 文字</measures>\n            </elementValue>\n            <elementValue>\n              <value>01</value>\n              <measures>自定義 Wx 單位</measures>\n            </elementValue>\n          </time>\n          <time>\n            <startTime>2020-11-25T03:00:00+08:00</startTime>\n            <endTime>2020-11-25T06:00:00+08:00</endTime>\n            <elementValue>\n              <value>晴</value>\n              <measures>自定義 Wx 文字</measures>\n            </elementValue>\n            <elementValue>\n              <value>01</value>\n              <measures>自定義 Wx 單位</measures>\n            </elementValue>\n          </time>\n          <time>\n            <startTime>2020-11-25T06:00:00+08:00</startTime>\n            <endTime>2020-11-25T09:00:00+08:00</endTime>\n            <elementValue>\n              <value>晴</value>\n              <measures>自定義 Wx 文字</measures>\n            </elementValue>\n            <elementValue>\n              <value>01</value>\n              <measures>自定義 Wx 單位</measures>\n            </elementValue>\n          </time>\n          <time>\n            <startTime>2020-11-25T09:00:00+08:00</startTime>\n            <endTime>2020-11-25T12:00:00+08:00</endTime>\n            <elementValue>\n              <value>晴</value>\n              <measures>自定義 Wx 文字</measures>\n            </elementValue>\n            <elementValue>\n              <value>01</value>\n              <measures>自定義 Wx 單位</measures>\n            </elementValue>\n          </time>\n          <time>\n            <startTime>2020-11-25T12:00:00+08:00</startTime>\n            <endTime>2020-11-25T15:00:00+08:00</endTime>\n            <elementValue>\n              <value>晴</value>\n              <measures>自定義 Wx 文字</measures>\n            </elementValue>\n            <elementValue>\n              <value>01</value>\n              <measures>自定義 Wx 單位</measures>\n            </elementValue>\n          </time>\n          <time>\n            <startTime>2020-11-25T15:00:00+08:00</startTime>\n            <endTime>2020-11-25T18:00:00+08:00</endTime>\n            <elementValue>\n              <value>多雲</value>\n              <measures>自定義 Wx 文字</measures>\n            </elementValue>\n            <elementValue>\n              <value>04</value>\n              <measures>自定義 Wx 單位</measures>\n            </elementValue>\n          </time>\n          <time>\n            <startTime>2020-11-25T18:00:00+08:00</startTime>\n            <endTime>2020-11-25T21:00:00+08:00</endTime>\n            <elementValue>\n              <value>陰</value>\n              <measures>自定義 Wx 文字</measures>\n            </elementValue>\n            <elementValue>\n              <value>07</value>\n              <measures>自定義 Wx 單位</measures>\n            </elementValue>\n          </time>\n          <time>\n            <startTime>2020-11-25T21:00:00+08:00</startTime>\n            <endTime>2020-11-26T00:00:00+08:00</endTime>\n            <elementValue>\n              <value>陰</value>\n              <measures>自定義 Wx 文字</measures>\n            </elementValue>\n            <elementValue>\n              <value>07</value>\n              <measures>自定義 Wx 單位</measures>\n            </elementValue>\n          </time>\n          <time>\n            <startTime>2020-11-26T00:00:00+08:00</startTime>\n            <endTime>2020-11-26T03:00:00+08:00</endTime>\n            <elementValue>\n              <value>多雲</value>\n              <measures>自定義 Wx 文字</measures>\n            </elementValue>\n            <elementValue>\n              <value>04</value>\n              <measures>自定義 Wx 單位</measures>\n            </elementValue>\n          </time>\n          <time>\n            <startTime>2020-11-26T03:00:00+08:00</startTime>\n            <endTime>2020-11-26T06:00:00+08:00</endTime>\n            <elementValue>\n              <value>多雲</value>\n              <measures>自定義 Wx 文字</measures>\n            </elementValue>\n            <elementValue>\n              <value>04</value>\n              <measures>自定義 Wx 單位</measures>\n            </elementValue>\n          </time>\n          <time>\n            <startTime>2020-11-26T06:00:00+08:00</startTime>\n            <endTime>2020-11-26T09:00:00+08:00</endTime>\n            <elementValue>\n              <value>晴</value>\n              <measures>自定義 Wx 文字</measures>\n            </elementValue>\n            <elementValue>\n              <value>01</value>\n              <measures>自定義 Wx 單位</measures>\n            </elementValue>\n          </time>\n          <time>\n            <startTime>2020-11-26T09:00:00+08:00</startTime>\n            <endTime>2020-11-26T12:00:00+08:00</endTime>\n            <elementValue>\n              <value>晴</value>\n              <measures>自定義 Wx 文字</measures>\n            </elementValue>\n            <elementValue>\n              <value>01</value>\n              <measures>自定義 Wx 單位</measures>\n            </elementValue>\n          </time>\n        </weatherElement>\n        <weatherElement>\n          <elementName>WeatherDescription</elementName>\n          <description>天氣預報綜合描述</description>\n          <time>\n            <startTime>2020-11-23T12:00:00+08:00</startTime>\n            <endTime>2020-11-23T15:00:00+08:00</endTime>\n            <elementValue>\n              <value>多雲。降雨機率 10%。溫度攝氏25度。舒適。偏西風 平均風速&lt;= 1級(每秒0公尺)。相對濕度71%。</value>\n              <measures>NA</measures>\n            </elementValue>\n          </time>\n          <time>\n            <startTime>2020-11-23T15:00:00+08:00</startTime>\n            <endTime>2020-11-23T18:00:00+08:00</endTime>\n            <elementValue>\n              <value>多雲。降雨機率 10%。溫度攝氏22度。舒適。偏北風 平均風速&lt;= 1級(每秒0公尺)。相對濕度76%。</value>\n              <measures>NA</measures>\n            </elementValue>\n          </time>\n          <time>\n            <startTime>2020-11-23T18:00:00+08:00</startTime>\n            <endTime>2020-11-23T21:00:00+08:00</endTime>\n            <elementValue>\n              <value>晴。降雨機率 0%。溫度攝氏19度。稍有寒意。東南風 平均風速&lt;= 1級(每秒0公尺)。相對濕度94%。</value>\n              <measures>NA</measures>\n            </elementValue>\n          </time>\n          <time>\n            <startTime>2020-11-23T21:00:00+08:00</startTime>\n            <endTime>2020-11-24T00:00:00+08:00</endTime>\n            <elementValue>\n              <value>晴。降雨機率 0%。溫度攝氏19度。稍有寒意。偏南風 平均風速&lt;= 1級(每秒0公尺)。相對濕度97%。</value>\n              <measures>NA</measures>\n            </elementValue>\n          </time>\n          <time>\n            <startTime>2020-11-24T00:00:00+08:00</startTime>\n            <endTime>2020-11-24T03:00:00+08:00</endTime>\n            <elementValue>\n              <value>晴。降雨機率 0%。溫度攝氏18度。稍有寒意。東南風 平均風速&lt;= 1級(每秒0公尺)。相對濕度98%。</value>\n              <measures>NA</measures>\n            </elementValue>\n          </time>\n          <time>\n            <startTime>2020-11-24T03:00:00+08:00</startTime>\n            <endTime>2020-11-24T06:00:00+08:00</endTime>\n            <elementValue>\n              <value>多雲。降雨機率 0%。溫度攝氏18度。稍有寒意。東南風 平均風速&lt;= 1級(每秒0公尺)。相對濕度96%。</value>\n              <measures>NA</measures>\n            </elementValue>\n          </time>\n          <time>\n            <startTime>2020-11-24T06:00:00+08:00</startTime>\n            <endTime>2020-11-24T09:00:00+08:00</endTime>\n            <elementValue>\n              <value>晴。降雨機率 20%。溫度攝氏18度。稍有寒意。東南風 平均風速&lt;= 1級(每秒0公尺)。相對濕度95%。</value>\n              <measures>NA</measures>\n            </elementValue>\n          </time>\n          <time>\n            <startTime>2020-11-24T09:00:00+08:00</startTime>\n            <endTime>2020-11-24T12:00:00+08:00</endTime>\n            <elementValue>\n              <value>多雲。降雨機率 20%。溫度攝氏21度。舒適。偏西風 平均風速&lt;= 1級(每秒1公尺)。相對濕度93%。</value>\n              <measures>NA</measures>\n            </elementValue>\n          </time>\n          <time>\n            <startTime>2020-11-24T12:00:00+08:00</startTime>\n            <endTime>2020-11-24T15:00:00+08:00</endTime>\n            <elementValue>\n              <value>陰。降雨機率 20%。溫度攝氏24度。舒適。西北風 平均風速&lt;= 1級(每秒0公尺)。相對濕度85%。</value>\n              <measures>NA</measures>\n            </elementValue>\n          </time>\n          <time>\n            <startTime>2020-11-24T15:00:00+08:00</startTime>\n            <endTime>2020-11-24T18:00:00+08:00</endTime>\n            <elementValue>\n              <value>陰。降雨機率 20%。溫度攝氏22度。舒適。偏北風 平均風速&lt;= 1級(每秒0公尺)。相對濕度89%。</value>\n              <measures>NA</measures>\n            </elementValue>\n          </time>\n          <time>\n            <startTime>2020-11-24T18:00:00+08:00</startTime>\n            <endTime>2020-11-24T21:00:00+08:00</endTime>\n            <elementValue>\n              <value>晴。降雨機率 0%。溫度攝氏19度。稍有寒意。偏南風 平均風速&lt;= 1級(每秒0公尺)。相對濕度94%。</value>\n              <measures>NA</measures>\n            </elementValue>\n          </time>\n          <time>\n            <startTime>2020-11-24T21:00:00+08:00</startTime>\n            <endTime>2020-11-25T00:00:00+08:00</endTime>\n            <elementValue>\n              <value>多雲。降雨機率 0%。溫度攝氏18度。稍有寒意。偏東風 平均風速&lt;= 1級(每秒0公尺)。相對濕度97%。</value>\n              <measures>NA</measures>\n            </elementValue>\n          </time>\n          <time>\n            <startTime>2020-11-25T00:00:00+08:00</startTime>\n            <endTime>2020-11-25T03:00:00+08:00</endTime>\n            <elementValue>\n              <value>晴。降雨機率 0%。溫度攝氏18度。稍有寒意。偏東風 平均風速&lt;= 1級(每秒0公尺)。相對濕度98%。</value>\n              <measures>NA</measures>\n            </elementValue>\n          </time>\n          <time>\n            <startTime>2020-11-25T03:00:00+08:00</startTime>\n            <endTime>2020-11-25T06:00:00+08:00</endTime>\n            <elementValue>\n              <value>晴。降雨機率 0%。溫度攝氏18度。稍有寒意。偏東風 平均風速&lt;= 1級(每秒0公尺)。相對濕度96%。</value>\n              <measures>NA</measures>\n            </elementValue>\n          </time>\n          <time>\n            <startTime>2020-11-25T06:00:00+08:00</startTime>\n            <endTime>2020-11-25T09:00:00+08:00</endTime>\n            <elementValue>\n              <value>晴。降雨機率 10%。溫度攝氏17度。稍有寒意。偏東風 平均風速&lt;= 1級(每秒0公尺)。相對濕度96%。</value>\n              <measures>NA</measures>\n            </elementValue>\n          </time>\n          <time>\n            <startTime>2020-11-25T09:00:00+08:00</startTime>\n            <endTime>2020-11-25T12:00:00+08:00</endTime>\n            <elementValue>\n              <value>晴。降雨機率 10%。溫度攝氏22度。舒適。偏西風 平均風速&lt;= 1級(每秒1公尺)。相對濕度88%。</value>\n              <measures>NA</measures>\n            </elementValue>\n          </time>\n          <time>\n            <startTime>2020-11-25T12:00:00+08:00</startTime>\n            <endTime>2020-11-25T15:00:00+08:00</endTime>\n            <elementValue>\n              <value>晴。降雨機率 10%。溫度攝氏24度。舒適。偏西風 平均風速&lt;= 1級(每秒0公尺)。相對濕度69%。</value>\n              <measures>NA</measures>\n            </elementValue>\n          </time>\n          <time>\n            <startTime>2020-11-25T15:00:00+08:00</startTime>\n            <endTime>2020-11-25T18:00:00+08:00</endTime>\n            <elementValue>\n              <value>多雲。降雨機率 10%。溫度攝氏22度。舒適。西南風 平均風速&lt;= 1級(每秒0公尺)。相對濕度74%。</value>\n              <measures>NA</measures>\n            </elementValue>\n          </time>\n          <time>\n            <startTime>2020-11-25T18:00:00+08:00</startTime>\n            <endTime>2020-11-25T21:00:00+08:00</endTime>\n            <elementValue>\n              <value>陰。降雨機率 0%。溫度攝氏19度。稍有寒意。偏南風 平均風速&lt;= 1級(每秒0公尺)。相對濕度93%。</value>\n              <measures>NA</measures>\n            </elementValue>\n          </time>\n          <time>\n            <startTime>2020-11-25T21:00:00+08:00</startTime>\n            <endTime>2020-11-26T00:00:00+08:00</endTime>\n            <elementValue>\n              <value>陰。降雨機率 0%。溫度攝氏18度。稍有寒意。偏東風 平均風速&lt;= 1級(每秒0公尺)。相對濕度98%。</value>\n              <measures>NA</measures>\n            </elementValue>\n          </time>\n          <time>\n            <startTime>2020-11-26T00:00:00+08:00</startTime>\n            <endTime>2020-11-26T03:00:00+08:00</endTime>\n            <elementValue>\n              <value>多雲。降雨機率 0%。溫度攝氏17度。稍有寒意。偏東風 平均風速&lt;= 1級(每秒0公尺)。相對濕度98%。</value>\n              <measures>NA</measures>\n            </elementValue>\n          </time>\n          <time>\n            <startTime>2020-11-26T03:00:00+08:00</startTime>\n            <endTime>2020-11-26T06:00:00+08:00</endTime>\n            <elementValue>\n              <value>多雲。降雨機率 0%。溫度攝氏17度。稍有寒意。偏東風 平均風速&lt;= 1級(每秒0公尺)。相對濕度95%。</value>\n              <measures>NA</measures>\n            </elementValue>\n          </time>\n          <time>\n            <startTime>2020-11-26T06:00:00+08:00</startTime>\n            <endTime>2020-11-26T09:00:00+08:00</endTime>\n            <elementValue>\n              <value>晴。溫度攝氏16度。稍有寒意。偏東風 平均風速&lt;= 1級(每秒0公尺)。相對濕度94%。</value>\n              <measures>NA</measures>\n            </elementValue>\n          </time>\n          <time>\n            <startTime>2020-11-26T09:00:00+08:00</startTime>\n            <endTime>2020-11-26T12:00:00+08:00</endTime>\n            <elementValue>\n              <value>晴。溫度攝氏21度。舒適。偏西風 平均風速&lt;= 1級(每秒1公尺)。相對濕度90%。</value>\n              <measures>NA</measures>\n            </elementValue>\n          </time>\n        </weatherElement>\n      </location>\n    </locations>\n  </dataset>\n</cwbopendata>\n\n"
    }
   ],
   "source": [
    "import xmltodict\n",
    "\n",
    "# 0. 讀資料\n",
    "fh = open(\"./data/example03/64_72hr_CH.xml\", \"r\")\n",
    "xml = fh.read()\n",
    "fh.close()\n",
    "print(xml)\n",
    "\n",
    "d = dict(xmltodict.parse(xml))"
   ]
  },
  {
   "cell_type": "code",
   "execution_count": 3,
   "metadata": {
    "tags": []
   },
   "outputs": [
    {
     "output_type": "stream",
     "name": "stdout",
     "text": "['鹽埕區', '鼓山區', '左營區', '楠梓區', '三民區', '新興區', '前金區', '苓雅區', '前鎮區', '旗津區', '小港區', '鳳山區', '林園區', '大寮區', '大樹區', '大社區', '仁武區', '鳥松區', '岡山區', '橋頭區', '燕巢區', '田寮區', '阿蓮區', '路竹區', '湖內區', '茄萣區', '永安區', '彌陀區', '梓官區', '旗山區', '美濃區', '六龜區', '甲仙區', '杉林區', '內門區', '茂林區', '桃源區', '那瑪夏區']\n"
    }
   ],
   "source": [
    "# 1. 請問高雄市有多少地區有溫度資料？\n",
    "\n",
    "khhAreas = []\n",
    "khhLocationList = d['cwbopendata']['dataset']['locations']['location']\n",
    "for khhLocation in khhLocationList:\n",
    "    khhAreas.append(khhLocation['locationName'])\n",
    "print(khhAreas)"
   ]
  },
  {
   "cell_type": "code",
   "execution_count": 4,
   "metadata": {
    "tags": []
   },
   "outputs": [
    {
     "output_type": "stream",
     "name": "stdout",
     "text": "鹽埕區 2020-11-23T12:00:00+08:00 28攝氏度\n鼓山區 2020-11-23T12:00:00+08:00 28攝氏度\n左營區 2020-11-23T12:00:00+08:00 27攝氏度\n楠梓區 2020-11-23T12:00:00+08:00 28攝氏度\n三民區 2020-11-23T12:00:00+08:00 27攝氏度\n新興區 2020-11-23T12:00:00+08:00 28攝氏度\n前金區 2020-11-23T12:00:00+08:00 28攝氏度\n苓雅區 2020-11-23T12:00:00+08:00 28攝氏度\n前鎮區 2020-11-23T12:00:00+08:00 28攝氏度\n旗津區 2020-11-23T12:00:00+08:00 28攝氏度\n小港區 2020-11-23T12:00:00+08:00 29攝氏度\n鳳山區 2020-11-23T12:00:00+08:00 28攝氏度\n林園區 2020-11-23T12:00:00+08:00 28攝氏度\n大寮區 2020-11-23T12:00:00+08:00 29攝氏度\n大樹區 2020-11-23T12:00:00+08:00 29攝氏度\n大社區 2020-11-23T12:00:00+08:00 28攝氏度\n仁武區 2020-11-23T12:00:00+08:00 28攝氏度\n鳥松區 2020-11-23T12:00:00+08:00 29攝氏度\n岡山區 2020-11-23T12:00:00+08:00 28攝氏度\n橋頭區 2020-11-23T12:00:00+08:00 28攝氏度\n燕巢區 2020-11-23T12:00:00+08:00 28攝氏度\n田寮區 2020-11-23T12:00:00+08:00 28攝氏度\n阿蓮區 2020-11-23T12:00:00+08:00 28攝氏度\n路竹區 2020-11-23T12:00:00+08:00 28攝氏度\n湖內區 2020-11-23T12:00:00+08:00 27攝氏度\n茄萣區 2020-11-23T12:00:00+08:00 27攝氏度\n永安區 2020-11-23T12:00:00+08:00 27攝氏度\n彌陀區 2020-11-23T12:00:00+08:00 27攝氏度\n梓官區 2020-11-23T12:00:00+08:00 27攝氏度\n旗山區 2020-11-23T12:00:00+08:00 28攝氏度\n美濃區 2020-11-23T12:00:00+08:00 29攝氏度\n六龜區 2020-11-23T12:00:00+08:00 28攝氏度\n甲仙區 2020-11-23T12:00:00+08:00 28攝氏度\n杉林區 2020-11-23T12:00:00+08:00 30攝氏度\n內門區 2020-11-23T12:00:00+08:00 29攝氏度\n茂林區 2020-11-23T12:00:00+08:00 28攝氏度\n桃源區 2020-11-23T12:00:00+08:00 26攝氏度\n那瑪夏區 2020-11-23T12:00:00+08:00 25攝氏度\n"
    }
   ],
   "source": [
    "# 2. 請取出每一個地區所記錄的第一個時間點跟溫度\n",
    "khhLocationList = d['cwbopendata']['dataset']['locations']['location']\n",
    "for khhLocation in khhLocationList:\n",
    "    time0 = khhLocation['weatherElement'][0]['time'][0]\n",
    "    print('%s %s %s%s' % (khhLocation['locationName'], time0['dataTime'], time0['elementValue']['value'], time0['elementValue']['measures']))"
   ]
  },
  {
   "cell_type": "code",
   "execution_count": 5,
   "metadata": {
    "tags": []
   },
   "outputs": [
    {
     "output_type": "stream",
     "name": "stdout",
     "text": "2020-11-23T12:00:00+08:00 28攝氏度\n2020-11-23T15:00:00+08:00 28攝氏度\n2020-11-23T18:00:00+08:00 26攝氏度\n2020-11-23T21:00:00+08:00 25攝氏度\n2020-11-24T00:00:00+08:00 24攝氏度\n2020-11-24T03:00:00+08:00 24攝氏度\n2020-11-24T06:00:00+08:00 23攝氏度\n2020-11-24T09:00:00+08:00 24攝氏度\n2020-11-24T12:00:00+08:00 27攝氏度\n2020-11-24T15:00:00+08:00 27攝氏度\n2020-11-24T18:00:00+08:00 26攝氏度\n2020-11-24T21:00:00+08:00 25攝氏度\n2020-11-25T00:00:00+08:00 24攝氏度\n2020-11-25T03:00:00+08:00 23攝氏度\n2020-11-25T06:00:00+08:00 23攝氏度\n2020-11-25T09:00:00+08:00 24攝氏度\n2020-11-25T12:00:00+08:00 27攝氏度\n2020-11-25T15:00:00+08:00 27攝氏度\n2020-11-25T18:00:00+08:00 26攝氏度\n2020-11-25T21:00:00+08:00 25攝氏度\n2020-11-26T00:00:00+08:00 24攝氏度\n2020-11-26T03:00:00+08:00 24攝氏度\n2020-11-26T06:00:00+08:00 24攝氏度\n2020-11-26T09:00:00+08:00 25攝氏度\n"
    }
   ],
   "source": [
    "# 3. 請取出第一個地區所記錄的每一個時間點跟溫度\n",
    "weatherElements = d['cwbopendata']['dataset']['locations']['location'][0]['weatherElement']\n",
    "for weatherElement in weatherElements:\n",
    "    if weatherElement['elementName'] != 'T': continue\n",
    "    for time in weatherElement['time']:\n",
    "        print('%s %s%s' % (time['dataTime'], time['elementValue']['value'], time['elementValue']['measures']))"
   ]
  },
  {
   "cell_type": "code",
   "execution_count": null,
   "metadata": {},
   "outputs": [],
   "source": []
  }
 ],
 "metadata": {
  "kernelspec": {
   "display_name": "Python 3.8.2 64-bit ('3.8.2': pyenv)",
   "language": "python",
   "name": "python_defaultSpec_1606122412195"
  },
  "language_info": {
   "codemirror_mode": {
    "name": "ipython",
    "version": 3
   },
   "file_extension": ".py",
   "mimetype": "text/x-python",
   "name": "python",
   "nbconvert_exporter": "python",
   "pygments_lexer": "ipython3",
   "version": "3.8.2-final"
  }
 },
 "nbformat": 4,
 "nbformat_minor": 2
}