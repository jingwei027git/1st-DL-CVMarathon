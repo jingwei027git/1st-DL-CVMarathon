{
 "cells": [
  {
   "cell_type": "markdown",
   "metadata": {},
   "source": [
    "# API 資料串接 - 以 Dcard API 實作範例\n",
    "\n",
    "* 了解 Dcard API 使用方式與回傳內容\n",
    "* 撰寫程式存取 API 且解析 JSON 格式資料\n"
   ]
  },
  {
   "cell_type": "markdown",
   "metadata": {},
   "source": [
    "## 作業目標\n",
    "\n",
    "* 請利用 API: https://www.dcard.tw/_api/forums/pet/posts?popular=true 回答下列問題：\n",
    "\n",
    "1. 這個 API 一次會回傳幾筆資料？每一筆資料包含哪些欄位？\n",
    "2. 取出每一筆資料的「標題」、「貼文時間」、「留言人數」、「按讚人數」\n",
    "3. 計算熱門/非熱門文章的「平均留言人數」與「平均按讚人數」"
   ]
  },
  {
   "cell_type": "code",
   "execution_count": 5,
   "metadata": {},
   "outputs": [
    {
     "output_type": "stream",
     "name": "stdout",
     "text": [
      "30\ndict_keys(['id', 'title', 'excerpt', 'anonymousSchool', 'anonymousDepartment', 'pinned', 'forumId', 'replyId', 'createdAt', 'updatedAt', 'commentCount', 'likeCount', 'withNickname', 'tags', 'topics', 'meta', 'forumName', 'forumAlias', 'nsfw', 'gender', 'school', 'replyTitle', 'mediaMeta', 'reactions', 'hidden', 'customStyle', 'isSuspiciousAccount', 'isModerator', 'layout', 'withImages', 'withVideos', 'media', 'reportReasonText', 'excerptComments', 'postAvatar', 'verifiedBadge'])\n"
     ]
    }
   ],
   "source": [
    "# 1. 這個 API 一次會回傳幾筆資料？每一筆資料包含哪些欄位？\n",
    "import requests, json\n",
    "\n",
    "r = requests.get('https://www.dcard.tw/_api/forums/pet/posts?popular=true')\n",
    "body = r.text\n",
    "articles = json.loads(body)\n",
    "print(len(articles)) # 一次回傳 30筆\n",
    "\n",
    "print(articles[0].keys()) # 每一筆資料只看第一層的話有這些欄位"
   ]
  },
  {
   "cell_type": "code",
   "execution_count": 6,
   "metadata": {},
   "outputs": [
    {
     "output_type": "stream",
     "name": "stdout",
     "text": [
      "[{'title': '想逃票進美術館的兩隻貓咪！', 'createdAt': '2020-11-23T13:29:49.010Z', 'commentCount': 9, 'likeCount': 789}, {'title': '我做錯了什麼？大半夜你們要這樣對我？', 'createdAt': '2020-11-23T17:01:16.281Z', 'commentCount': 19, 'likeCount': 502}, {'title': '兩個男生竟然在玩這種遊戲？', 'createdAt': '2020-11-23T02:46:04.398Z', 'commentCount': 29, 'likeCount': 446}, {'title': '養著養著就養出肌肉男了😹', 'createdAt': '2020-11-23T03:19:42.273Z', 'commentCount': 16, 'likeCount': 330}, {'title': '裝睡的貓叫不醒', 'createdAt': '2020-11-23T16:55:58.942Z', 'commentCount': 14, 'likeCount': 236}, {'title': '驚喜貓🎁🐱', 'createdAt': '2020-11-23T03:15:26.266Z', 'commentCount': 24, 'likeCount': 203}, {'title': '親人貓咪待領養', 'createdAt': '2020-11-23T11:39:28.917Z', 'commentCount': 9, 'likeCount': 150}, {'title': '幫貓咪拍照時⋯', 'createdAt': '2020-11-23T14:32:41.006Z', 'commentCount': 7, 'likeCount': 148}, {'title': '就說床上不要有食物了', 'createdAt': '2020-11-23T08:34:18.652Z', 'commentCount': 3, 'likeCount': 50}, {'title': '母貓結紮費用', 'createdAt': '2020-11-23T07:27:38.578Z', 'commentCount': 69, 'likeCount': 48}, {'title': '#圖 誰家的貓這樣睡？', 'createdAt': '2020-11-23T14:07:35.353Z', 'commentCount': 7, 'likeCount': 27}, {'title': '給貓咪吃人類的直銷保健食品/幫推', 'createdAt': '2020-11-23T05:30:41.366Z', 'commentCount': 11, 'likeCount': 22}, {'title': '神秘生物 - 小卷大盜', 'createdAt': '2020-11-24T08:51:55.073Z', 'commentCount': 12, 'likeCount': 20}, {'title': '我愛我老婆🐱🍊', 'createdAt': '2020-11-23T07:53:58.976Z', 'commentCount': 0, 'likeCount': 15}, {'title': '養了一隻會說話的貓', 'createdAt': '2020-11-24T04:25:08.580Z', 'commentCount': 3, 'likeCount': 13}, {'title': '看得我都想睡了', 'createdAt': '2020-11-23T04:49:02.867Z', 'commentCount': 0, 'likeCount': 12}, {'title': '貓咪名字票選', 'createdAt': '2020-11-24T09:05:38.346Z', 'commentCount': 8, 'likeCount': 11}, {'title': '因緣際會多了一個你....', 'createdAt': '2020-11-23T15:19:12.474Z', 'commentCount': 3, 'likeCount': 10}, {'title': '當你的狗迫不及待想過聖誕節❄️🎄⋯', 'createdAt': '2020-11-24T00:42:22.670Z', 'commentCount': 1, 'likeCount': 8}, {'title': '我家的小橘貓🐱', 'createdAt': '2020-11-23T16:38:31.622Z', 'commentCount': 0, 'likeCount': 8}, {'title': '貓咪各種睡姿', 'createdAt': '2020-11-24T06:53:05.563Z', 'commentCount': 2, 'likeCount': 7}, {'title': '擋不住的餓意-自助buffet吃到飽', 'createdAt': '2020-11-24T03:59:41.964Z', 'commentCount': 1, 'likeCount': 7}, {'title': '貓貓服裝秀🐱', 'createdAt': '2020-11-24T03:06:50.593Z', 'commentCount': 2, 'likeCount': 7}, {'title': '刺刺終於讓我抓了', 'createdAt': '2020-11-23T06:49:18.576Z', 'commentCount': 3, 'likeCount': 7}, {'title': '最近領養的玳瑁🐱', 'createdAt': '2020-11-24T12:26:48.410Z', 'commentCount': 0, 'likeCount': 6}, {'title': '要演屍速列車3的貓', 'createdAt': '2020-11-24T11:09:13.519Z', 'commentCount': 0, 'likeCount': 6}, {'title': '工讀生妳還要爬多久？', 'createdAt': '2020-11-24T08:09:05.890Z', 'commentCount': 4, 'likeCount': 6}, {'title': '分開之前曬個貓', 'createdAt': '2020-11-24T07:40:05.171Z', 'commentCount': 0, 'likeCount': 6}, {'title': '養了一隻李榮浩🐹', 'createdAt': '2020-11-23T12:19:33.982Z', 'commentCount': 0, 'likeCount': 6}, {'title': '#台中 #協尋藍和尚鸚鵡 ‼️', 'createdAt': '2020-11-24T09:06:30.351Z', 'commentCount': 0, 'likeCount': 5}]\n"
     ]
    }
   ],
   "source": [
    "# 2. 取出每一筆資料的「標題」、「貼文時間」、「留言人數」、「按讚人數」\n",
    "result = []\n",
    "for article in articles:\n",
    "    result.append({\n",
    "        'title': article['title'],\n",
    "        'createdAt': article['createdAt'],\n",
    "        'commentCount': article['commentCount'],\n",
    "        'likeCount': article['likeCount']\n",
    "    })\n",
    "print(result)"
   ]
  },
  {
   "cell_type": "code",
   "execution_count": 7,
   "metadata": {},
   "outputs": [
    {
     "output_type": "execute_result",
     "data": {
      "text/plain": [
       "'\\nYour Code\\n'"
      ]
     },
     "metadata": {},
     "execution_count": 7
    }
   ],
   "source": [
    "# 3. 計算熱門/非熱門文章的「平均留言人數」與「平均按讚人數」\n",
    "\n",
    "'''\n",
    "Your Code\n",
    "'''"
   ]
  },
  {
   "cell_type": "code",
   "execution_count": null,
   "metadata": {},
   "outputs": [],
   "source": []
  },
  {
   "cell_type": "code",
   "execution_count": null,
   "metadata": {},
   "outputs": [],
   "source": []
  }
 ],
 "metadata": {
  "kernelspec": {
   "display_name": "Python 3",
   "language": "python",
   "name": "python3"
  },
  "language_info": {
   "codemirror_mode": {
    "name": "ipython",
    "version": 3
   },
   "file_extension": ".py",
   "mimetype": "text/x-python",
   "name": "python",
   "nbconvert_exporter": "python",
   "pygments_lexer": "ipython3",
   "version": "3.8.2-final"
  }
 },
 "nbformat": 4,
 "nbformat_minor": 2
}