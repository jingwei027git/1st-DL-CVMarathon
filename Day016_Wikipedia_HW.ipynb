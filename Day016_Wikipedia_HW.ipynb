{
 "cells": [
  {
   "cell_type": "markdown",
   "metadata": {},
   "source": [
    "# Wikipedia爬蟲練習\n",
    "## 範例：練習是從Wikipedia中爬取文章。先定義一個搜尋的關鍵字，擷取該關鍵字詞的文章。"
   ]
  },
  {
   "cell_type": "code",
   "execution_count": null,
   "metadata": {},
   "outputs": [],
   "source": [
    "import requests\n",
    "import re\n",
    "from bs4 import BeautifulSoup"
   ]
  },
  {
   "cell_type": "markdown",
   "metadata": {},
   "source": [
    "### 先定義一個我們想搜尋的字詞，並將它轉換成UTF-8編碼後的URL"
   ]
  },
  {
   "cell_type": "code",
   "execution_count": 20,
   "metadata": {},
   "outputs": [
    {
     "output_type": "stream",
     "name": "stdout",
     "text": [
      "朴信惠: %E6%9C%B4%E4%BF%A1%E6%83%A0\n/wiki/%E6%9C%B4%E4%BF%A1%E6%83%A0\n"
     ]
    }
   ],
   "source": [
    "input_keyword = \"朴信惠\"  # 這裡可以自己定義有興趣的關鍵字\n",
    "\n",
    "utf8_url = repr(input_keyword.encode('UTF-8')).upper()  # 編碼成UTF-8並轉成大寫字元\n",
    "utf8_url = utf8_url.replace(\"\\\\X\", \"%\")                 # 用 '%' 取代 '\\X' \n",
    "print(\"%s: %s\" % (input_keyword, utf8_url[2:-1:1]))     # 擷取中間的編碼結果(去掉頭的b'和尾的')\n",
    "\n",
    "# 組成Wiki關鍵字搜尋的網址格式\n",
    "root_keyword_link = '/wiki/' + utf8_url[2:-1:1]\n",
    "print(root_keyword_link)"
   ]
  },
  {
   "cell_type": "markdown",
   "metadata": {},
   "source": [
    "### 範例1：送出關鍵字請求後，爬取該關鍵字的文章內容"
   ]
  },
  {
   "cell_type": "code",
   "execution_count": 21,
   "metadata": {},
   "outputs": [
    {
     "output_type": "stream",
     "name": "stdout",
     "text": [
      "朴信惠（韓語：박신혜，1990年2月18日－），韓國著名女演員，主演多部電視劇及電影，童星出身，2001年廣告登埸。\n2016年2月15日在中央大學戲劇電影學系畢業，取得學士學位[2]。\n\n朴信惠在11歲的時候，得到師父李承桓（韓語：이승환 (가수)）的發掘，簽約成為其經紀公司藝人。\n\n簽約後，拍攝的第一部MV為李承桓（韓語：이승환 (가수)）的《愛嗎》。2003年以拍攝李承桓（韓語：이승환 (가수)）的另一支MV《花》出道，MV中她象徵有頑強生命力的花一樣存在著，第一次單獨作為主角拍攝的她，讓人印象深刻。2003下半年，拍攝第一部電視劇《天國的階梯》飾演崔智友童年角色小靜書，天生的善良的女主角；因年幼時因為親生母親的病逝，默默忍受繼母和妹妹的欺凌，首次接觸電視劇13歲的朴信惠，把女主角小時候的善良堅強，與男主角小時候純潔的愛等，同年也獲得了《SBS演技大賞》「童星賞」，得到了觀眾的更多的關注。\n\n2004年至2005年間接拍中韓合作的《飛天舞》。\n\n接演SBS情境劇《可愛或者瘋了》，並在獨幕劇《新爸爸二十九》中首次擔正女主角。\n\n與李莞在電視劇《天國的階梯》之後的再次合作，拍攝了韓日合拍劇《天國的樹》，以16歲的年紀成為迷你電視劇最年輕的女主角。同年跳上大銀幕出演電影《傳說中的故鄉》，首次擔正電影女主角。\n\n2007年1月至3月期間播放的水木連續劇，擔任女配角申世苓。\n\n6月至2008年6月，朴信惠被選為MBC綜藝節目《幻想的同桌》主持人，並在2007年《MBC演藝大賞》中得到「女子新人MC獎」。\n\n10月，與張根碩、李洪基、鄭容和合作演出電視劇《原來是美男》，在劇中一人分飾雙胞胎兄妹，並憑此劇獲2009年韓國《SBS演技大賞》「新人賞」。\n\n3月，朴信惠與演員宋仲基被選為11屆全州國際電影節宣傳大使。被譽為「擔負著韓國電影界的未來的演員」。同年9月主演的電影《大鼻子情聖：戀愛操作團》上映，憑此電影奪得《第47屆百想藝術大賞》「電影部門女子人氣賞」。\n\n2011年6月主演電視劇《你為我著迷》，飾演李葵媛一角，以教授歌舞、表演和文學專業的藝術大學為背景，展現了一群努力追夢的年輕人愛情和友情的故事。在拍攝期間發生車禍，原欲繼續拍攝，受導演要求進醫院休養，以致車禍當週劇集無法順利播放，最終劇集比原訂的16集減少一集播出。朴憑此劇奪得2013年中國《樂視影視盛典》「亞洲人氣明星獎」以及韓國《第48屆百想藝術大賞》「電視部門女子人氣賞」，於亞洲各國（尤其日本）引起很大熱潮。 \n\n2013年1月主演改編自網絡漫畫的電視劇《鄰家花美男》，描繪現代人的偷窺心理的喜劇片，講述因為心理受創將自己關在城堡中的高獨美經常偷窺鄰居帥哥韓太俊，被對方弟弟發現後展開的一系列爆笑故事。同年憑電影《七號房的禮物》妍思一角勇奪《第33屆韓國影評人協會》「最佳女配角」獎以及奪得《第49屆百想藝術大賞》「電影部門女子人氣賞」。\n\n2013年10月主演描述富二代高中生愛情和友情的電視劇《欲戴王冠，必承其重－繼承者們》，在劇中飾演貧窮繼承者車恩尚，與李敏鎬飾演上流社會1%的繼承者金潭上演了一段浪漫的愛情故事。車恩尚一角深受歡迎，朴信惠憑此劇以大熱姿態先後奪得2013年韓國《SBS演技大賞》中篇「女子優秀演技獎」、中國《2013年國劇盛典》「海外最受歡迎女演員」獎以及美國《第2屆 DramaFever Award》「最佳女主角」等多個獎項。\n\n11月主演描述年輕社會部記者的電視劇《皮諾丘》，在劇中飾演患有皮諾丘綜合症所以只要一說謊就會打嗝的主角崔仁荷，仁荷在劇中選擇了做一名記者，因患有皮諾丘綜合症，仁荷比起其他記者有更大的動力去追求真相。朴信惠的演出深受觀眾期待，令這部劇自首播以來收視一直高開。這部劇也讓朴信惠在2014年韓國《SBS演技大賞》中榮獲多個獎項，其中包括「女子最優秀演技獎」、「最佳情侶獎」以及「10大明星獎」等 , 信惠亦憑此劇榮獲美國《第10屆 Soompi Awards》「最佳女主角」獎 ，同時亦入圍《第51屆百想藝術大賞》「最佳女演員」( 最後五強 ) , 再登演藝高峰。同年9月主演的電影《尚衣院》上映，並憑此電影以85%的得票率蟬聯《第51屆百想藝術大賞》「電影部門女子人氣賞」以及「愛奇藝明星獎」[3]，成為《百想藝術大賞》頒獎禮史上首位連續5年獲得人氣賞的藝人。[4]\n\n2月15日自中央大學戲劇電影學系畢業，取得學士學位[5]。6月主演SBS醫學劇《Doctors》，在劇中飾演發憤圖強成為醫生的主人公劉慧靜。朴信惠首次在劇集飾演中醫生，首播後收視持續上升，反應不少觀眾之期待。朴信惠在劇中出色的演技再次大受好評，在《SBS演技大賞》中憑劇集《Doctors》獲得「十大明星獎」以及「體裁、幻想類電視劇部門 女子最優秀演技賞」。\n\n朴信惠主演電影《沉默》，飾演律師崔𤋮靜。\n\n2018年12月，朴信惠與炫彬主演電視劇《阿爾罕布拉宮的回憶》。\n\n2019年至2020年，朴信惠親身體驗動物瀕臨滅絕的悲傷現況。紀錄片《Humanimal》共爲5集，講述了生存在地球上的人類（Human）與動物（Animal）之間的生與死以及共存的史詩記錄。\n\n"
     ]
    }
   ],
   "source": [
    "# 模擬封包的標頭\n",
    "headers = {\n",
    "    'authority': 'zh.wikipedia.org',\n",
    "    'method': 'GET',\n",
    "    'path': '/wiki/' + root_keyword_link,\n",
    "    'scheme': 'https',\n",
    "    'accept': 'text/html,application/xhtml+xml,application/xml;q=0.9,image/webp,image/apng,*/*;q=0.8,application/signed-exchange;v=b3',\n",
    "    'accept-encoding': 'gzip, deflate, br',\n",
    "    'accept-language': 'zh-TW,zh;q=0.9,en-US;q=0.8,en;q=0.7,zh-CN;q=0.6',\n",
    "    'cookie': 'GeoIP=TW:TPE:Taipei:25.05:121.53:v4; TBLkisOn=0; mwPhp7Seed=8b8; WMF-Last-Access-Global=04-Jun-2019; WMF-Last-Access=04-Jun-2019',\n",
    "    'dnt': '1',\n",
    "    #'if-modified-since': 'Tue, 04 Jun 2019 12:03:22 GMT',\n",
    "    'referer': 'https://zh.wikipedia.org/wiki/Wikipedia:%E9%A6%96%E9%A1%B5',\n",
    "    'upgrade-insecure-requests': '1',\n",
    "    'user-agent': 'Mozilla/5.0 (Windows NT 10.0; Win64; x64) AppleWebKit/537.36 (KHTML, like Gecko) Chrome/74.0.3729.169 Safari/537.36'\n",
    "}    \n",
    "\n",
    "url = 'https://zh.wikipedia.org' + root_keyword_link  # 組合關鍵字查詢URL\n",
    "resp = requests.get(url, headers=headers)\n",
    "resp.encoding = 'utf-8'\n",
    "\n",
    "html = BeautifulSoup(resp.text, \"lxml\")\n",
    "content = html.find(name='div', attrs={'id':'mw-content-text'}).find_all(name='p')\n",
    "\n",
    "#\n",
    "# 解析回傳資料，並萃取文章內容\n",
    "#\n",
    "for paragraph in content:\n",
    "    print(paragraph.get_text())\n"
   ]
  },
  {
   "cell_type": "markdown",
   "metadata": {},
   "source": [
    "### 範例2：從爬取的文章內容中，擷取出有外部連結的關鍵字。這些關鍵字在文章中是以藍色字體顯示，會連到外部的網頁，並解釋其內容。"
   ]
  },
  {
   "cell_type": "code",
   "execution_count": 22,
   "metadata": {},
   "outputs": [
    {
     "output_type": "stream",
     "name": "stdout",
     "text": [
      "外部連結: [韓國] /wiki/%E9%9F%93%E5%9C%8B\n外部連結: [女演員] /wiki/%E5%A5%B3%E6%BC%94%E5%93%A1\n外部連結: [童星] /wiki/%E7%AB%A5%E6%98%9F\n外部連結: [中央大學] /wiki/%E4%B8%AD%E5%A4%AE%E5%A4%A7%E5%AD%B8_(%E9%9F%93%E5%9C%8B)\n外部連結: [天國的階梯] /wiki/%E5%A4%A9%E5%9C%8B%E7%9A%84%E9%9A%8E%E6%A2%AF\n外部連結: [李莞] /wiki/%E6%9D%8E%E8%8E%9E\n外部連結: [天國的樹] /wiki/%E5%A4%A9%E5%9C%8B%E7%9A%84%E6%A8%B9\n外部連結: [張根碩] /wiki/%E5%BC%B5%E6%A0%B9%E7%A2%A9\n外部連結: [李洪基] /wiki/%E6%9D%8E%E6%B4%AA%E5%9F%BA\n外部連結: [鄭容和] /wiki/%E9%84%AD%E5%AE%B9%E5%92%8C\n外部連結: [原來是美男] /wiki/%E5%8E%9F%E4%BE%86%E6%98%AF%E7%BE%8E%E7%94%B7_(%E9%9F%93%E5%9C%8B%E9%9B%BB%E8%A6%96%E5%8A%87)\n外部連結: [韓國] /wiki/%E9%9F%93%E5%9C%8B\n外部連結: [SBS演技大賞] /wiki/SBS%E6%BC%94%E6%8A%80%E5%A4%A7%E8%B5%8F\n外部連結: [宋仲基] /wiki/%E5%AE%8B%E4%BB%B2%E5%9F%BA\n外部連結: [大鼻子情聖：戀愛操作團] /wiki/%E5%A4%A7%E9%BC%BB%E5%AD%90%E6%83%85%E8%81%96%EF%BC%9A%E6%88%80%E6%84%9B%E6%93%8D%E4%BD%9C%E5%9C%98\n外部連結: [第47屆百想藝術大賞] /wiki/%E7%AC%AC47%E5%B1%86%E7%99%BE%E6%83%B3%E8%97%9D%E8%A1%93%E5%A4%A7%E8%B3%9E\n外部連結: [你為我著迷] /wiki/%E4%BD%A0%E7%82%BA%E6%88%91%E8%91%97%E8%BF%B7\n外部連結: [中國] /wiki/%E4%B8%AD%E5%9C%8B\n外部連結: [韓國] /wiki/%E9%9F%93%E5%9C%8B\n外部連結: [第48屆百想藝術大賞] /wiki/%E7%AC%AC48%E5%B1%86%E7%99%BE%E6%83%B3%E8%97%9D%E8%A1%93%E5%A4%A7%E8%B3%9E\n外部連結: [鄰家花美男] /wiki/%E9%84%B0%E5%AE%B6%E8%8A%B1%E7%BE%8E%E7%94%B7\n外部連結: [七號房的禮物] /wiki/%E4%B8%83%E8%99%9F%E6%88%BF%E7%9A%84%E7%A6%AE%E7%89%A9\n外部連結: [第49屆百想藝術大賞] /wiki/%E7%AC%AC49%E5%B1%86%E7%99%BE%E6%83%B3%E8%97%9D%E8%A1%93%E5%A4%A7%E8%B3%9E\n外部連結: [欲戴王冠，必承其重－繼承者們] /wiki/%E6%AC%B2%E6%88%B4%E7%8E%8B%E5%86%A0%EF%BC%8C%E5%BF%85%E6%89%BF%E5%85%B6%E9%87%8D%EF%BC%8D%E7%B9%BC%E6%89%BF%E8%80%85%E5%80%91\n外部連結: [李敏鎬] /wiki/%E6%9D%8E%E6%95%8F%E9%8E%AC\n外部連結: [韓國] /wiki/%E9%9F%93%E5%9C%8B\n外部連結: [SBS演技大賞] /wiki/SBS%E6%BC%94%E6%8A%80%E5%A4%A7%E7%8D%8E\n外部連結: [中國] /wiki/%E4%B8%AD%E5%9C%8B\n外部連結: [美國] /wiki/%E7%BE%8E%E5%9C%8B\n外部連結: [皮諾丘] /wiki/%E7%9A%AE%E8%AB%BE%E4%B8%98_(%E9%9B%BB%E8%A6%96%E5%8A%87)\n外部連結: [美國] /wiki/%E7%BE%8E%E5%9C%8B\n外部連結: [第51屆百想藝術大賞] /wiki/%E7%AC%AC51%E5%B1%86%E7%99%BE%E6%83%B3%E8%97%9D%E8%A1%93%E5%A4%A7%E8%B3%9E\n外部連結: [尚衣院] /wiki/%E5%B0%9A%E8%A1%A3%E9%99%A2_(%E9%9B%BB%E5%BD%B1)\n外部連結: [中央大學] /wiki/%E4%B8%AD%E5%A4%AE%E5%A4%A7%E5%AD%B8\n外部連結: [SBS] /wiki/SBS\n外部連結: [Doctors] /wiki/Doctors\n外部連結: [SBS演技大賞] /wiki/SBS%E6%BC%94%E6%8A%80%E5%A4%A7%E7%8D%8E\n外部連結: [Doctors] /wiki/Doctors\n外部連結: [沉默] /wiki/%E6%B2%89%E9%BB%98%E7%9A%84%E7%9B%AE%E6%93%8A%E8%80%85\n外部連結: [炫彬] /wiki/%E7%82%AB%E5%BD%AC\n外部連結: [阿爾罕布拉宮的回憶] /wiki/%E9%98%BF%E7%88%BE%E7%BD%95%E5%B8%83%E6%8B%89%E5%AE%AE%E7%9A%84%E5%9B%9E%E6%86%B6_(%E9%9B%BB%E8%A6%96%E5%8A%87)\n"
     ]
    }
   ],
   "source": [
    "for ext_link in content:\n",
    "    a_tag = ext_link.find_all('a', href=re.compile(\"^(/wiki/)((?!;)\\S)*$\"))\n",
    "    if len(a_tag) > 0:\n",
    "        for link_string in a_tag:\n",
    "            a_link = link_string[\"href\"]       # 外部連結的網址\n",
    "            a_keyword = link_string.get_text()  # 外部連結的中文名稱\n",
    "            print(\"外部連結: [%s] %s\" % (a_keyword, a_link))"
   ]
  },
  {
   "cell_type": "markdown",
   "metadata": {},
   "source": [
    "## 作業：接下來定義一個爬蟲函數，這個函數的主要工作為：\n",
    "### (1) 爬取當前關鍵字的解釋，並存入檔案(因為文章內容太多會佔滿整個頁面，所以存程檔案，方便後續檢視)\n",
    "### (2) 萃取出當前關鍵字所引用的外部連結，當作新的查詢關鍵字\n",
    "### (3) 把第(2)擷取到的關鍵字當作新的關鍵字，回到第(1)步，爬取新的關鍵字解釋。"
   ]
  },
  {
   "cell_type": "code",
   "execution_count": 46,
   "metadata": {},
   "outputs": [],
   "source": [
    "def WikiArticle(key_word_link, key_word, recursive):\n",
    "    if (recursive <= max_recursive_depth):\n",
    "        print(\"遞迴層[%d] - %s (%s)\" % (recursive, key_word_link, key_word))\n",
    "        \n",
    "        # 模擬封包的標頭\n",
    "        headers = {\n",
    "            'authority': 'zh.wikipedia.org',\n",
    "            'method': 'GET',\n",
    "            'path': '/wiki/' + key_word_link,\n",
    "            'scheme': 'https',\n",
    "            'accept': 'text/html,application/xhtml+xml,application/xml;q=0.9,image/webp,image/apng,*/*;q=0.8,application/signed-exchange;v=b3',\n",
    "            'accept-encoding': 'gzip, deflate, br',\n",
    "            'accept-language': 'zh-TW,zh;q=0.9,en-US;q=0.8,en;q=0.7,zh-CN;q=0.6',\n",
    "            'cookie': 'GeoIP=TW:TPE:Taipei:25.05:121.53:v4; TBLkisOn=0; mwPhp7Seed=8b8; WMF-Last-Access-Global=04-Jun-2019; WMF-Last-Access=04-Jun-2019',\n",
    "            'dnt': '1',\n",
    "            #'if-modified-since': 'Tue, 04 Jun 2019 12:03:22 GMT',\n",
    "            'referer': 'https://zh.wikipedia.org/wiki/Wikipedia:%E9%A6%96%E9%A1%B5',\n",
    "            'upgrade-insecure-requests': '1',\n",
    "            'user-agent': 'Mozilla/5.0 (Windows NT 10.0; Win64; x64) AppleWebKit/537.36 (KHTML, like Gecko) Chrome/74.0.3729.169 Safari/537.36'\n",
    "        }    \n",
    "\n",
    "        url = 'https://zh.wikipedia.org' + key_word_link  # 組合關鍵字查詢URL\n",
    "        resp = requests.get(url, headers=headers)\n",
    "        resp.encoding = 'utf-8'\n",
    "\n",
    "        html = BeautifulSoup(resp.text, \"lxml\")\n",
    "        content = html.find(name='div', attrs={'id':'mw-content-text'}).find_all(name='p')\n",
    "        \n",
    "        #\n",
    "        # Part 1: 請參考範例1，爬取當前關鍵字的文章內容。\n",
    "        #         因為內容太多，我們把它寫入檔案，並以關鍵字作為檔案名稱，以便稍後查閱內容。\n",
    "        #         請先建立一個名為\"WikiArticle\"的資料夾，爬取到的文章內容會放在這個資料夾底下。\n",
    "        #\n",
    "        os.makedirs( './WikiArticle', exist_ok=True )\n",
    "        if len(content) > 0:\n",
    "            with open(\"./WikiArticle/\" + key_word, \"w\") as fh:\n",
    "                for c in content:\n",
    "                    fh.write(c.text)\n",
    "\n",
    "        \n",
    "        #\n",
    "        # Part 2: 請參考範例2，萃取出本篇文章中所延伸引用的外部連結，並儲存在external_link_dict\n",
    "        #\n",
    "        external_link_dict = dict({})\n",
    "        for ext_link in content:\n",
    "            a_tag = ext_link.find_all('a', href=re.compile(\"^(/wiki/)((?!;)\\S)*$\"))\n",
    "            if len(a_tag) > 0:\n",
    "                for link_string in a_tag:\n",
    "                    a_link = link_string[\"href\"]       # 外部連結的網址\n",
    "                    a_keyword = link_string.get_text()  # 外部連結的中文名稱\n",
    "                    external_link_dict[a_link] = a_keyword\n",
    "        # print(external_link_dict)\n",
    "                    \n",
    "        #\n",
    "        # Part 3: 將Part 2所收集的外部連結，當作新的關鍵字，繼續迭代深入爬蟲\n",
    "        #\n",
    "        if (len(external_link_dict) > 0):        \n",
    "            recursive = recursive + 1  # 遞迴深度加1\n",
    "            loops = 0\n",
    "            for k, v in external_link_dict.items():\n",
    "                loops += 1\n",
    "                if (loops < 10):\n",
    "                    WikiArticle(k, v, recursive)  # 再次呼叫同樣的函數，執行同樣的流程\n",
    "                "
   ]
  },
  {
   "cell_type": "markdown",
   "metadata": {},
   "source": [
    "### 執行前個步驟定義好的爬蟲主程式"
   ]
  },
  {
   "cell_type": "code",
   "execution_count": 47,
   "metadata": {
    "tags": []
   },
   "outputs": [
    {
     "output_type": "stream",
     "name": "stdout",
     "text": [
      "遞迴層[0] - /wiki/%E6%9C%B4%E4%BF%A1%E6%83%A0 (朴信惠)\n",
      "遞迴層[1] - /wiki/%E9%9F%93%E5%9C%8B (韓國)\n",
      "遞迴層[2] - /wiki/%E6%9D%B1%E4%BA%9E (東亞)\n",
      "遞迴層[2] - /wiki/%E6%9C%9D%E9%AE%AE%E5%8D%8A%E5%B3%B6 (朝鮮半島)\n",
      "遞迴層[2] - /wiki/%E5%85%B1%E5%92%8C%E5%88%B6 (共和制)\n",
      "遞迴層[2] - /wiki/%E9%A6%96%E9%83%BD (首都)\n",
      "遞迴層[2] - /wiki/%E9%A6%96%E7%88%BE (首爾)\n",
      "遞迴層[2] - /wiki/%E9%9F%A9%E5%9B%BD%E8%A5%BF%E6%B5%B7 (韓國西海)\n",
      "遞迴層[2] - /wiki/%E5%A4%A7%E9%9F%93%E6%B5%B7%E5%B3%BD (大韓海峽)\n",
      "遞迴層[2] - /wiki/%E9%9F%A9%E5%9B%BD%E4%B8%9C%E6%B5%B7 (韓國東海)\n",
      "遞迴層[2] - /wiki/%E4%B8%89%E5%85%AB%E7%B7%9A (三八線)\n",
      "遞迴層[1] - /wiki/%E5%A5%B3%E6%BC%94%E5%93%A1 (女演員)\n",
      "遞迴層[2] - /wiki/%E8%A1%A8%E6%BC%94%E8%97%9D%E8%A1%93 (表演藝術)\n",
      "遞迴層[2] - /wiki/%E9%9B%BB%E5%BD%B1 (電影)\n",
      "遞迴層[2] - /wiki/%E9%9B%BB%E8%A6%96 (電視)\n",
      "遞迴層[2] - /wiki/%E5%8A%87%E5%A0%B4_(%E8%97%9D%E8%A1%93) (劇場)\n",
      "遞迴層[2] - /wiki/%E5%B9%BF%E6%92%AD_(%E5%A4%A7%E4%BC%97%E5%AA%92%E4%BD%93) (廣播)\n",
      "遞迴層[2] - /wiki/%E8%A1%97%E9%A0%AD%E8%97%9D%E4%BA%BA (街頭藝人)\n",
      "遞迴層[2] - /wiki/%E5%A5%B3%E4%BC%B6 (女伶)\n",
      "遞迴層[2] - /wiki/%E6%88%B2%E6%9B%B2 (戲曲)\n",
      "遞迴層[2] - /wiki/%E6%97%A5%E6%9C%AC (日本)\n",
      "遞迴層[1] - /wiki/%E7%AB%A5%E6%98%9F (童星)\n",
      "遞迴層[2] - /wiki/%E6%BC%94%E5%93%A1 (演員)\n",
      "遞迴層[2] - /wiki/%E6%AD%8C%E6%89%8B (歌手)\n",
      "遞迴層[2] - /wiki/%E6%A8%A1%E7%89%B9%E5%85%92 (模特兒)\n",
      "遞迴層[2] - /wiki/%E5%85%92%E7%AB%A5%E6%A8%A1%E7%89%B9%E5%85%92 (兒童模特兒)\n",
      "遞迴層[2] - /wiki/%E9%85%8D%E9%9F%B3%E5%93%A1 (配音員)\n",
      "遞迴層[2] - /wiki/%E6%BC%94%E8%97%9D%E7%95%8C (演藝)\n",
      "遞迴層[2] - /wiki/%E5%85%92%E7%AB%A5 (兒童)\n",
      "遞迴層[2] - /wiki/%E8%97%9D%E4%BA%BA (藝人)\n",
      "遞迴層[2] - /wiki/%E7%AB%A5%E5%B7%A5 (童工)\n",
      "遞迴層[1] - /wiki/%E4%B8%AD%E5%A4%AE%E5%A4%A7%E5%AD%B8_(%E9%9F%93%E5%9C%8B) (中央大學)\n",
      "遞迴層[2] - /wiki/%E5%A4%A7%E9%9F%93%E6%B0%91%E5%9C%8B (韓國)\n",
      "遞迴層[2] - /wiki/%E7%A7%81%E7%AB%8B%E5%A4%A7%E5%AD%B8 (私立大學)\n",
      "遞迴層[2] - /wiki/%E4%B8%AD%E5%A4%AE%E6%97%A5%E5%A0%B1_(%E9%9F%93%E5%9C%8B) (中央日報)\n",
      "遞迴層[2] - /wiki/QS%E4%B8%96%E7%95%8C%E5%A4%A7%E5%AD%A6%E6%8E%92%E5%90%8D (QS大學亞洲排名)\n",
      "遞迴層[2] - /wiki/%E6%B3%B0%E6%99%A4%E5%A3%AB%E9%AB%98%E7%AD%89%E6%95%99%E8%82%B2%E4%B8%96%E7%95%8C%E5%A4%A7%E5%AD%B8%E6%8E%92%E5%90%8D (泰晤士亞洲大學排名)\n",
      "遞迴層[2] - /wiki/%E6%96%97%E5%B1%B1%E9%9B%86%E5%9B%A2 (斗山)\n",
      "遞迴層[2] - /wiki/%E5%B9%BC%E5%85%92%E5%9C%92 (幼兒園)\n",
      "遞迴層[2] - /wiki/%E5%B8%AB%E7%AF%84%E5%AD%B8%E6%A0%A1 (幼兒園女教師訓練學校)\n",
      "遞迴層[2] - /wiki/%E9%A6%96%E7%88%BE (首爾)\n",
      "遞迴層[1] - /wiki/%E5%A4%A9%E5%9C%8B%E7%9A%84%E9%9A%8E%E6%A2%AF (天國的階梯)\n",
      "遞迴層[2] - /wiki/%E5%A4%A7%E9%9F%93%E6%B0%91%E5%9C%8B (韓國)\n",
      "遞迴層[2] - /wiki/SBS_(%E9%9F%93%E5%9C%8B) (SBS)\n",
      "遞迴層[2] - /wiki/SBS%E6%B0%B4%E6%9C%A8%E8%BF%B7%E4%BD%A0%E9%80%A3%E7%BA%8C%E5%8A%87 (水木迷你連續劇)\n",
      "遞迴層[2] - /wiki/%E9%9F%93%E5%9C%8B%E9%9B%BB%E8%A6%96%E5%8A%87 (韓國電視劇)\n",
      "遞迴層[1] - /wiki/%E6%9D%8E%E8%8E%9E (李莞)\n",
      "遞迴層[2] - /wiki/%E9%9F%93%E5%9C%8B (韓國)\n",
      "遞迴層[2] - /wiki/%E6%BC%94%E5%93%A1 (男演員)\n",
      "遞迴層[2] - /wiki/%E9%87%91%E6%B3%B0%E5%B8%8C (金泰希)\n",
      "遞迴層[2] - /wiki/%E5%A4%A9%E5%9C%8B%E7%9A%84%E9%9A%8E%E6%A2%AF (天國的階梯)\n",
      "遞迴層[2] - /wiki/%E5%A4%A9%E5%9C%8B%E7%9A%84%E6%A8%B9 (天國的樹)\n",
      "遞迴層[1] - /wiki/%E5%A4%A9%E5%9C%8B%E7%9A%84%E6%A8%B9 (天國的樹)\n",
      "遞迴層[2] - /wiki/SBS_(%E9%9F%93%E5%9C%8B) (SBS電視臺)\n",
      "遞迴層[2] - /wiki/SBS%E7%89%B9%E5%88%A5%E5%8A%87 (水木連續劇)\n",
      "遞迴層[2] - /wiki/%E6%9C%B4%E4%BF%A1%E6%83%A0 (朴信惠)\n",
      "遞迴層[2] - /wiki/%E6%9D%8E%E8%8E%9E (李莞)\n",
      "遞迴層[2] - /wiki/%E5%A4%A9%E5%9C%8B%E7%9A%84%E9%9A%8E%E6%A2%AF (天國的階梯)\n",
      "遞迴層[2] - /wiki/%E8%97%8D%E8%89%B2%E7%94%9F%E6%AD%BB%E6%88%80 (藍色生死戀)\n",
      "遞迴層[1] - /wiki/%E5%BC%B5%E6%A0%B9%E7%A2%A9 (張根碩)\n",
      "遞迴層[2] - /wiki/%E9%9F%93%E5%9C%8B (韓國)\n",
      "遞迴層[2] - /wiki/%E5%8E%9F%E4%BE%86%E6%98%AF%E7%BE%8E%E7%94%B7_(%E9%9F%93%E5%9C%8B%E9%9B%BB%E8%A6%96%E5%8A%87) (原來是美男)\n",
      "遞迴層[2] - /wiki/%E9%A6%96%E7%88%BE%E5%B8%82 (首爾市)\n",
      "遞迴層[2] - /wiki/%E9%A6%96%E7%88%BE (首爾)\n",
      "遞迴層[2] - /wiki/BoA (BoA)\n",
      "遞迴層[2] - /wiki/SK%E7%94%B5%E4%BF%A1 (SK電信)\n",
      "遞迴層[2] - /wiki/%E7%94%B7%E7%94%9F%E5%A5%B3%E7%94%9F%E5%90%91%E5%89%8D%E8%B5%B0 (男生女生向前走)\n",
      "遞迴層[2] - /wiki/%E6%BC%A2%E9%99%BD%E5%A4%A7%E5%AD%B8 (漢陽大學)\n",
      "遞迴層[2] - /wiki/%E5%8E%9F%E4%BE%86%E6%98%AF%E7%BE%8E%E7%94%B7 (原來是美男)\n",
      "遞迴層[1] - /wiki/%E6%9D%8E%E6%B4%AA%E5%9F%BA (李洪基)\n",
      "遞迴層[2] - /wiki/%E9%9F%93%E5%9C%8B (韓國)\n",
      "遞迴層[2] - /wiki/FTIsland (FTIsland)\n",
      "遞迴層[2] - /wiki/%E6%9C%B4%E4%BF%A1%E6%83%A0 (朴信惠)\n",
      "遞迴層[2] - /wiki/%E5%BC%B5%E6%A0%B9%E7%A2%A9 (張根碩)\n",
      "遞迴層[2] - /wiki/%E9%84%AD%E5%AE%B9%E5%92%8C (鄭容和)\n",
      "遞迴層[2] - /wiki/%E5%8E%9F%E4%BE%86%E6%98%AF%E7%BE%8E%E7%94%B7 (原來是美男)\n",
      "遞迴層[2] - /wiki/%E5%AE%89%E8%83%9C%E6%B5%A9 (安勝浩)\n",
      "遞迴層[2] - /wiki/M!_Countdown (M! Countdown)\n",
      "遞迴層[2] - /wiki/%E8%97%A4%E4%BA%95%E7%BE%8E%E8%8F%9C (藤井美菜)\n"
     ]
    }
   ],
   "source": [
    "# 定義爬取的遞迴深度。深度不要訂太深，否則會爬很久。\n",
    "max_recursive_depth = 2\n",
    "\n",
    "WikiArticle(root_keyword_link, input_keyword, 0)"
   ]
  },
  {
   "cell_type": "code",
   "execution_count": null,
   "metadata": {},
   "outputs": [],
   "source": []
  }
 ],
 "metadata": {
  "kernelspec": {
   "display_name": "Python 3",
   "language": "python",
   "name": "python3"
  },
  "language_info": {
   "codemirror_mode": {
    "name": "ipython",
    "version": 3
   },
   "file_extension": ".py",
   "mimetype": "text/x-python",
   "name": "python",
   "nbconvert_exporter": "python",
   "pygments_lexer": "ipython3",
   "version": "3.9.0-final"
  }
 },
 "nbformat": 4,
 "nbformat_minor": 2
}