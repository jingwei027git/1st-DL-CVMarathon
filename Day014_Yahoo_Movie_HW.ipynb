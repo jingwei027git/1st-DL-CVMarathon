{
 "cells": [
  {
   "cell_type": "markdown",
   "metadata": {},
   "source": [
    "# YAHOO電影爬蟲練習\n",
    "## 練習爬取電影放映資訊。必須逐步獲取電影的代號、放映地區、放映日期後，再送出查詢給伺服器。"
   ]
  },
  {
   "cell_type": "code",
   "execution_count": null,
   "metadata": {},
   "outputs": [],
   "source": [
    "import requests\n",
    "import re\n",
    "from bs4 import BeautifulSoup"
   ]
  },
  {
   "cell_type": "markdown",
   "metadata": {},
   "source": [
    "### 先搜尋全部的電影代號(ID)資訊"
   ]
  },
  {
   "cell_type": "code",
   "execution_count": 9,
   "metadata": {},
   "outputs": [
    {
     "output_type": "stream",
     "name": "stdout",
     "text": [
      "Movie: 鬼弒訊, ID: 11083\nMovie: 迷走廣州, ID: 11060\nMovie: 無間行者之生死潛行, ID: 11051\nMovie: 未來的我們, ID: 11046\nMovie: 卡卡囌卡卡衝, ID: 11043\nMovie: 他們的自由年代, ID: 11037\nMovie: MISS, ID: 11036\nMovie: 十二夜2：回到第零天, ID: 11035\nMovie: 尋找小魔女Doremi, ID: 11027\nMovie: 外星異種, ID: 11025\nMovie: 緝毒風暴, ID: 11023\nMovie: 說不出的告別, ID: 11019\nMovie: 追殺胖老爹, ID: 11015\nMovie: 鹿兒流浪記, ID: 11012\nMovie: 謎樣事件簿, ID: 11011\nMovie: 慾望摩天輪, ID: 11010\nMovie: 古魯家族：新石代, ID: 10958\nMovie: 盜墓同盟, ID: 11031\nMovie: 槍手養成班, ID: 11009\nMovie: 愛在末路之境, ID: 11008\nMovie: 婊兄弟上路, ID: 11003\nMovie: 瘋狂理髮師, ID: 10998\nMovie: 你是豬, ID: 10995\nMovie: 消失的星期三, ID: 10949\nMovie: 同學麥娜絲, ID: 10935\nMovie: 惡童當街 經典重映, ID: 10932\nMovie: 名偵探柯南：紅之校外旅行 鮮紅篇&戀紅篇, ID: 10887\nMovie: 逃, ID: 10565\nMovie: 海邊的異邦人, ID: 11014\nMovie: 弒膽遊戲, ID: 10988\nMovie: 換人殺砍砍, ID: 10933\nMovie: 祕密：夢想的力量, ID: 10566\nMovie: 愛麗絲與夢幻島, ID: 11018\nMovie: 家在蘭若寺, ID: 11034\nMovie: 咕嚕米的眼睛, ID: 11033\nMovie: 5x1, ID: 11032\nMovie: 逃亡的女人, ID: 11028\nMovie: GIVEN~被贈與的未來劇場版, ID: 11022\nMovie: 綠洲：數位經典版, ID: 11013\nMovie: 孤味, ID: 10477\nMovie: 女巫們, ID: 10976\nMovie: 感官世界, ID: 10999\nMovie: 玩美女人 經典數位修復, ID: 10910\nMovie: 壞教慾經典數位修復, ID: 10878\nMovie: 鬼滅之刃劇場版 無限列車篇, ID: 10816\nMovie: 碧藍之海劇場版, ID: 10950\nMovie: 親愛的房客, ID: 10707\nMovie: 奪命守門人, ID: 10952\nMovie: 幻愛, ID: 10945\nMovie: 無聲, ID: 10926\nMovie: 千年一問, ID: 10948\nMovie: 愛情列車長, ID: 10857\nMovie: 特斯拉, ID: 10942\nMovie: 刻在你心底的名字, ID: 10902\nMovie: 剪刀手愛德華, ID: 10901\nMovie: 森林特攻隊：大腳ㄚ家族, ID: 10894\nMovie: 急先鋒, ID: 10443\nMovie: 電影哆啦A夢：大雄的新恐龍, ID: 10891\nMovie: 寂寞調香師, ID: 10905\nMovie: 名偵探奶奶, ID: 10893\nMovie: 消失的情人節, ID: 10870\nMovie: 麥路人, ID: 10900\nMovie: 訂製幸福滋味, ID: 10908\nMovie: 密弒直播, ID: 10888\nMovie: 蠟筆小新：激戰！塗鴉王國與差不多四勇者, ID: 10874\nMovie: 海霧, ID: 10872\nMovie: 蘿莉破壞王, ID: 10776\nMovie: 花木蘭, ID: 8632\nMovie: 馗降：粽邪2, ID: 10787\nMovie: 變種人, ID: 10452\nMovie: TENET天能, ID: 10433\nMovie: 看不見的證人, ID: 10873\nMovie: 天劫倒數, ID: 10850\nMovie: 不丹是教室, ID: 10789\nMovie: 七龍珠超：布羅利, ID: 9481\nMovie: 一首搖滾上月球, ID: 4887\nMovie: 錢不夠用2, ID: 3026\n"
     ]
    }
   ],
   "source": [
    "# 查看目前上映那些電影，並擷取出其ID資訊\n",
    "url = 'https://movies.yahoo.com.tw/'\n",
    "resp = requests.get(url)\n",
    "resp.encoding = 'utf-8'\n",
    "\n",
    "soup = BeautifulSoup(resp.text, 'lxml')\n",
    "html = soup.find(\"select\", attrs={'name':'movie_id'})\n",
    "movie_item = html.find_all(\"option\", attrs={'data-name':re.compile('.*')})\n",
    "\n",
    "for p in movie_item:\n",
    "    print(\"Movie: %s, ID: %s\" % (p[\"data-name\"], p[\"value\"]))"
   ]
  },
  {
   "cell_type": "markdown",
   "metadata": {},
   "source": [
    "### 指定你有興趣的電影其ID，然後查詢其放映地區資訊。"
   ]
  },
  {
   "cell_type": "code",
   "execution_count": 10,
   "metadata": {},
   "outputs": [],
   "source": [
    "# 參考前一個步驟中擷取到的ID資訊，並指定ID\n",
    "movie_id = 11035"
   ]
  },
  {
   "cell_type": "code",
   "execution_count": 14,
   "metadata": {},
   "outputs": [
    {
     "output_type": "stream",
     "name": "stdout",
     "text": [
      "放映地區: 台北市, 代號(area_id): 28\n放映地區: 新北市, 代號(area_id): 8\n放映地區: 桃園, 代號(area_id): 16\n放映地區: 新竹, 代號(area_id): 20\n放映地區: 苗栗, 代號(area_id): 15\n放映地區: 台中, 代號(area_id): 2\n放映地區: 嘉義, 代號(area_id): 21\n放映地區: 台南, 代號(area_id): 10\n放映地區: 高雄, 代號(area_id): 17\n放映地區: 屏東, 代號(area_id): 14\n放映地區: 基隆, 代號(area_id): 18\n放映地區: 宜蘭, 代號(area_id): 11\n放映地區: 花蓮, 代號(area_id): 12\n放映地區: 台東, 代號(area_id): 9\n放映地區: 澎湖, 代號(area_id): 23\n"
     ]
    }
   ],
   "source": [
    "url = 'https://movies.yahoo.com.tw/api/v1/areas_by_movie_theater'\n",
    "payload = {'movie_id':str(movie_id)}\n",
    "\n",
    "# 模擬一個header\n",
    "headers = {\n",
    "    'authority': 'movies.yahoo.com.tw',\n",
    "    'method': 'GET',\n",
    "    'path': '/api/v1/areas_by_movie_theater?movie_id=' + str(movie_id),\n",
    "    'scheme': 'https',\n",
    "    'accept': 'application/json, text/javascript, */*; q=0.01',\n",
    "    'accept-encoding': 'gzip, deflate, br',\n",
    "    'accept-language': 'zh-TW,zh;q=0.9,en-US;q=0.8,en;q=0.7,zh-CN;q=0.6',\n",
    "    'cookie': 'rxx=9s3x2fws06.1g16irnc&v=1; _ga=GA1.3.2056742944.1551651301; GUC=AQEBAQFczFpdm0IfmwSB&s=AQAAACoo4N5D&g=XMsVBw; BX=4hkdk1decm57t&b=3&s=mr; _ga=GA1.4.2056742944.1551651301; nexagesuid=82843256dd234e8e91aa73f2062f8218; browsed_movie=eyJpdiI6IlJXWWtiSWJaZlNGK2MxQnhscnVUYWc9PSIsInZhbHVlIjoiMXRhMmVHRXRIeUNjc1RBWDJzdGYwbnlIQURmWGsrcjJSMzhkbkcraDNJVUNIZEZsbzU3amlFcVZ1NzlmazJrTGpoMjVrbHk1YmpoRENXaHZTOUw1TmI2ZTZVWHdOejZQZm16RmVuMWlHTTJLaTZLVFZZVkFOMDlTd1wvSGltcytJIiwibWFjIjoiZWQ2ZjA4MmVjZmZlYjlmNjJmYmY2NGMyMDI0Njc0NWViYjVkOWE2NDg0N2RhODMxZjBjZDhiMmJhZTc2MDZhYiJ9; avi=eyJpdiI6Im1NeWFJRlVRWDR1endEcGRGUGJUbVE9PSIsInZhbHVlIjoickRpU3JuUytmcGl6cjF5OW0rNU9iZz09IiwibWFjIjoiY2VmY2NkNzZmM2NhNjY5YzlkOTcyNjE5OGEyMzU0NWYxOTdmMDRkMDY3OWNmMmZjOTMxYjc5MjI5N2Q5NGE5MiJ9; cmp=t=1559391030&j=0; _gid=GA1.4.779543841.1559391031; XSRF-TOKEN=eyJpdiI6IkhpS2hGcDRQaHlmWUJmaHdSS2Q2bHc9PSIsInZhbHVlIjoiOUVoNFk4OHI1UUZmUWRtYXhza0MyWjJSTlhlZ3RnT0VGeVJPN2JuczVRMGRFdWt2OUlsamVKeHRobFwvcHBGM0dhU3VyMXNGTHlsb2dVM2l0U1hpUGxBPT0iLCJtYWMiOiJkZWU4YzJhNjAxMTY3MzE4Y2ExNWIxYmE1ZjE1YWZlZTlhOTcyYjc4M2RlZGY4ZWNjZDYyMTA2NGYwZGViMzc2In0%3D; m_s=eyJpdiI6InpsZHZ2Tk1BZ0dxaHhETml1RjBnUXc9PSIsInZhbHVlIjoiSkNGeHUranRoXC85bDFiaDhySTJqNkJRcWdjWUxjeVRJSHVYZ1wvd2d4bWJZUTUrSHVDM0lUcW5KNHdETFZ4T1lieU81OUhzc1VoUXhZcWk0UDZSQXVFdz09IiwibWFjIjoiYmJkMDJkMDhlODIzMzcyMWY4M2NmYWNjNGVlOWRjMDIwZmVmNzAyMjE3Yzg3ZGY3ODBkZWEzZTI4MTI5ZWNmOSJ9; _gat=1; nexagesd=10',\n",
    "    'dnt': '1',\n",
    "    'mv-authorization': '21835b082e15b91a69b3851eec7b31b82ce82afb',\n",
    "    'referer': 'https://movies.yahoo.com.tw/',\n",
    "    'user-agent': 'Mozilla/5.0 (Windows NT 10.0; Win64; x64) AppleWebKit/537.36 (KHTML, like Gecko) Chrome/74.0.3729.169 Safari/537.36',\n",
    "    'x-requested-with': 'XMLHttpRequest',\n",
    "}\n",
    "    \n",
    "resp = requests.get(url, params=payload, headers=headers)\n",
    "#print(resp.json())  # 若有需要，列印出json原始碼\n",
    "\n",
    "# 這裡回傳的格式是JSON格式的資料，要解析JSON擷取資料\n",
    "for p in resp.json():\n",
    "    print('放映地區: {0}, 代號(area_id): {1}'.format(p['title'], p['area_id']))"
   ]
  },
  {
   "cell_type": "markdown",
   "metadata": {},
   "source": [
    "### 指定你想要觀看的放映地區，查詢有上映電影的場次日期"
   ]
  },
  {
   "cell_type": "code",
   "execution_count": 16,
   "metadata": {},
   "outputs": [],
   "source": [
    "# 指定放映地區\n",
    "area_id = 28"
   ]
  },
  {
   "cell_type": "code",
   "execution_count": 17,
   "metadata": {},
   "outputs": [
    {
     "output_type": "stream",
     "name": "stdout",
     "text": [
      "十一月 29\n十一月 30\n十二月 1\n十二月 2\n十二月 3\n"
     ]
    }
   ],
   "source": [
    "# 向網站發送請求\n",
    "url = 'https://movies.yahoo.com.tw/movietime_result.html'\n",
    "payload = {'movie_id':str(movie_id), 'area_id':str(area_id)}\n",
    "resp = requests.get(url, params=payload)\n",
    "resp.encoding = 'utf-8'\n",
    "\n",
    "soup = BeautifulSoup(resp.text, 'lxml')\n",
    "movie_date = soup.find_all(\"label\", attrs={'for':re.compile(\"date_[\\d]\")})\n",
    "\n",
    "# 列印播放日期\n",
    "for date in movie_date:\n",
    "    print(\"%s %s\" % (date.p.string, date.h3.string))"
   ]
  },
  {
   "cell_type": "markdown",
   "metadata": {},
   "source": [
    "### 最後指定觀看的日期，查詢並列印出放映的電影院、放映類型(數位、3D、IMAX 3D...)、放映時間等資訊。"
   ]
  },
  {
   "cell_type": "code",
   "execution_count": 18,
   "metadata": {},
   "outputs": [],
   "source": [
    "# 選定要觀看的日期\n",
    "date = \"2020-11-29\""
   ]
  },
  {
   "cell_type": "code",
   "execution_count": 22,
   "metadata": {
    "tags": []
   },
   "outputs": [],
   "source": [
    "# 向網站發送請求，獲取上映的電影院及時間資訊\n",
    "url = \"https://movies.yahoo.com.tw/ajax/pc/get_schedule_by_movie\"\n",
    "payload = {'movie_id':str(movie_id),\n",
    "           'date':date,\n",
    "           'area_id':str(area_id),\n",
    "           'theater_id':'',\n",
    "           'datetime':'',\n",
    "           'movie_type_id':''}\n",
    "\n",
    "resp = requests.get(url, params=payload)\n",
    "#print(resp.json()['view'])  # 若有需要，列印出json原始碼\n",
    "\n",
    "soup = BeautifulSoup(resp.json()['view'], 'lxml')\n",
    "html = soup.find_all(\"ul\", attrs={'data-theater_name':re.compile(\".*\")})"
   ]
  },
  {
   "cell_type": "code",
   "execution_count": 34,
   "metadata": {
    "tags": []
   },
   "outputs": [
    {
     "output_type": "stream",
     "name": "stdout",
     "text": [
      "國賓影城(台北長春廣場) 數位\n11.29 14:00\n11.29 17:40\n11.29 19:40\n欣欣秀泰影城 數位\n11.29 10:30\n11.29 12:25\n11.29 14:20\n11.29 18:10\n11.29 20:05\n台北美麗華大直影城 數位\n11.29 20:15\n華威天母影城 數位\n11.29 16:50\n11.29 20:45\n11.29 22:30\n台北in89豪華數位影城 數位\n11.29 21:40\n台北信義威秀影城 數位\n11.29 19:30\n11.29 23:40\n國賓影城(微風廣場) 數位\n11.29 12:40\n11.29 22:00\n哈拉影城 數位\n11.29 13:50\n11.29 16:10\n11.29 21:10\n11.29 23:00\n百老匯數位影城 數位\n11.29 09:50\n11.29 13:15\n11.29 16:40\n11.29 20:05\n11.29 21:50\n今日秀泰影城 數位\n11.29 10:20\n11.29 16:25\n11.29 20:25\n11.29 22:20\n京站威秀影城 數位\n11.29 21:25\n光點華山電影館 數位\n11.29 12:40\n喜樂時代影城南港店 數位\n11.29 19:10\n"
     ]
    }
   ],
   "source": [
    "'''\n",
    "試著從上一步驟回傳的電影院資料中，擷取電影院名稱、影片放映類型以及時間表\n",
    "'''\n",
    "for ul in html:\n",
    "  theater = ul.find('a').text\n",
    "  movie_kind = ul.find(class_=\"tapR\").text\n",
    "  times = ul.find_all(class_=\"gabtn\")\n",
    "  print(theater, movie_kind)\n",
    "  for t in times:\n",
    "    print('%s %s' % (t['data-movie_date'], t['data-movie_time']))\n"
   ]
  },
  {
   "cell_type": "code",
   "execution_count": null,
   "metadata": {},
   "outputs": [],
   "source": []
  }
 ],
 "metadata": {
  "kernelspec": {
   "display_name": "Python 3",
   "language": "python",
   "name": "python3"
  },
  "language_info": {
   "codemirror_mode": {
    "name": "ipython",
    "version": 3
   },
   "file_extension": ".py",
   "mimetype": "text/x-python",
   "name": "python",
   "nbconvert_exporter": "python",
   "pygments_lexer": "ipython3",
   "version": "3.9.0-final"
  }
 },
 "nbformat": 4,
 "nbformat_minor": 2
}