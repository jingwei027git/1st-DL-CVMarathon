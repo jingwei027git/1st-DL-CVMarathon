{
 "cells": [
  {
   "cell_type": "markdown",
   "metadata": {},
   "source": [
    "# API 資料串接 - 以 知乎 API 實作範例\n",
    "\n",
    "\n",
    "\n",
    "* 了解知乎 API 使用方式與回傳內容\n",
    "* 撰寫程式存取 API 且添加標頭\n",
    "\n",
    "\n"
   ]
  },
  {
   "cell_type": "markdown",
   "metadata": {},
   "source": [
    "## 作業目標\n",
    "\n",
    "* 根據範例提供的 API ，完成以下問題：\n",
    "\n",
    "    1. 取出知乎問題發問時間\n",
    "    2. 取出第一筆與最後一筆回答的時間\n"
   ]
  },
  {
   "cell_type": "markdown",
   "metadata": {},
   "source": [
    "### 1. 取出知乎問題發問時間"
   ]
  },
  {
   "cell_type": "code",
   "execution_count": 2,
   "metadata": {},
   "outputs": [],
   "source": [
    "import requests, json\n",
    "headers = {'user-agent': 'my-app/0.0.1'}\n",
    "resBody = requests.get('https://www.zhihu.com/api/v4/questions/55493026/answers',headers=headers)\n",
    "resText = resBody.text\n",
    "resJson = json.loads(resText)"
   ]
  },
  {
   "cell_type": "code",
   "execution_count": 3,
   "metadata": {},
   "outputs": [
    {
     "output_type": "stream",
     "name": "stdout",
     "text": [
      "637938925 [你们都是怎么学 Python 的？] 1486390229\n683070334 [你们都是怎么学 Python 的？] 1486390229\n1106818911 [你们都是怎么学 Python 的？] 1486390229\n163537026 [你们都是怎么学 Python 的？] 1486390229\n1567312043 [你们都是怎么学 Python 的？] 1486390229\n"
     ]
    }
   ],
   "source": [
    "# 1. 取出知乎問題發問時間\n",
    "for j in resJson['data']:\n",
    "    print('%d [%s] %d' % (j['id'], j['question']['title'], j['question']['created']))"
   ]
  },
  {
   "cell_type": "markdown",
   "metadata": {},
   "source": [
    "### 2. 取出第一筆與最後一筆回答的時間"
   ]
  },
  {
   "cell_type": "code",
   "execution_count": 7,
   "metadata": {},
   "outputs": [
    {
     "output_type": "stream",
     "name": "stdout",
     "text": [
      "1582533957\n1582533957\n"
     ]
    }
   ],
   "source": [
    "# 2. 取出第一筆與最後一筆回答的時間\n",
    "print(resJson['data'][0]['question']['updated_time'])\n",
    "print(resJson['data'][len(resJson['data'])-1]['question']['updated_time'])"
   ]
  }
 ],
 "metadata": {
  "kernelspec": {
   "name": "python3",
   "display_name": "Python 3.9.0 64-bit ('david390')",
   "metadata": {
    "interpreter": {
     "hash": "4c30fbf76f54033038e82bf3e5d1078ab0311f7f4729f8a0c0a1690f883b8ba5"
    }
   }
  },
  "language_info": {
   "codemirror_mode": {
    "name": "ipython",
    "version": 3
   },
   "file_extension": ".py",
   "mimetype": "text/x-python",
   "name": "python",
   "nbconvert_exporter": "python",
   "pygments_lexer": "ipython3",
   "version": "3.9.0-final"
  }
 },
 "nbformat": 4,
 "nbformat_minor": 2
}