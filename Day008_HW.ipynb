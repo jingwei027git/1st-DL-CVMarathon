{
 "cells": [
  {
   "cell_type": "markdown",
   "metadata": {},
   "source": [
    "# 靜態網頁的資料爬蟲策略\n",
    "\n",
    "\n",
    "* 了解靜態網頁的資料爬蟲策略\n",
    "* 認識適用於靜態網頁爬蟲的相關套件工具：Request\n",
    "* 認識適用於靜態網頁爬蟲的相關套件工具：BeatifulSoup"
   ]
  },
  {
   "cell_type": "markdown",
   "metadata": {},
   "source": [
    "## 作業目標\n",
    "\n",
    "利用 Request + BeatifulSoup 爬取下列兩個網站內容並解析：\n",
    "\n",
    "1. Dcared 網址： https://www.dcard.tw/f\n",
    "2. 知乎： https://www.zhihu.com/explore\n",
    "\n",
    "並且回答下面問題：\n",
    "\n",
    "1. Request 取回之後該怎麼取出資料，資料型態是什麼？\n",
    "2. 為什麼要使用 BeatifulSoup 處理？處理後的型態是什麼？\n",
    "3. 觀察一下知乎回來的資料好像有點怪怪的，該怎麼解決？"
   ]
  },
  {
   "cell_type": "markdown",
   "metadata": {},
   "source": [
    "### 1. Dcard 網址： https://www.dcard.tw/f"
   ]
  },
  {
   "cell_type": "code",
   "execution_count": 1,
   "metadata": {},
   "outputs": [],
   "source": [
    "import requests\n",
    "from bs4 import BeautifulSoup\n"
   ]
  },
  {
   "cell_type": "code",
   "execution_count": 9,
   "metadata": {},
   "outputs": [
    {
     "output_type": "stream",
     "name": "stdout",
     "text": [
      "<!DOCTYPE html><html lang=\"zh-TW\"><head prefix=\"og: http://ogp.me/ns#\" itemscope=\"\" itemType=\"https://schema.org/WebSite\"><meta charSet=\"utf-8\"/><meta http-equiv=\"X-UA-Compatible\" content=\"IE=edge\"/><meta name=\"apple-mobile-web-app-status-bar-style\" content=\"default\"/><meta name=\"application-name\" content=\"Dcard\"/><meta name=\"apple-itunes-app\" content=\"app-id=951353454\"/><meta name=\"theme-color\" content=\"#006aa6\"/><meta name=\"mobile-web-app-capable\" content=\"yes\"/><meta name=\"apple-mobile-web-app-capable\" content=\"yes\"/><meta name=\"supported-color-schemes\" content=\"light\"/><meta property=\"fb:app_id\" content=\"211628828926493\"/><meta property=\"fb:pages\" content=\"178875832200695,577748865730563,1333515469994506,619122564952487,804004803032067,178024805867764\"/><meta property=\"al:ios:app_store_id\" content=\"951353454\"/><meta property=\"al:ios:app_name\" content=\"Dcard\"/><meta property=\"al:android:package\" content=\"com.sparkslab.dcardreader\"/><meta property=\"al:android:app_name\" content=\"Dcard\"/><link rel=\"manifest\" href=\"/_next/static/manifest.json\"/><link rel=\"preconnect\" href=\"https://www.googletagmanager.com\" crossorigin=\"true\"/><link rel=\"preconnect\" href=\"https://fonts.googleapis.com\" crossorigin=\"true\"/><link rel=\"preconnect\" href=\"https://fonts.gstatic.com\" crossorigin=\"true\"/><link rel=\"dns-prefetch\" href=\"https://www.googletagmanager.com\"/><link rel=\"dns-prefetch\" href=\"https://fonts.googleapis.com\"/><link rel=\"dns-prefetch\" href=\"https://fonts.gstatic.com\"/><link rel=\"dns-prefetch\" href=\"https://www.google-analytics.com\"/><link rel=\"dns-prefetch\" href=\"https://sb.scorecardresearch.com\"/><link rel=\"dns-prefetch\" href=\"https://certify.alexametrics.com\"/><link rel=\"dns-prefetch\" href=\"https://cloudfront-labs.amazonaws.com\"/><link rel=\"dns-prefetch\" href=\"https://bilanx.dcard.tw\"/><link rel=\"dns-prefetch\" href=\"https://imgur.dcard.tw\"/><link rel=\"dns-prefetch\" href=\"https://megapx-assets.dcard.tw\"/><link rel=\"dns-prefetch\" href=\"https://browser.sentry-cdn.com\"/><link rel=\"dns-prefetch\" href=\"https://gcs.dcard.tw\"/><link rel=\"preload\" href=\"https://fonts.googleapis.com/css2?family=Roboto:wght@400;500;700&amp;display=swap\" as=\"style\"/><link rel=\"stylesheet\" href=\"https://fonts.googleapis.com/css2?family=Roboto:wght@400;500;700&amp;display=swap\"/><link rel=\"icon\" type=\"image/png\" sizes=\"16x16\" href=\"/_next/static/media/icon-16-8783abf2c964e446614d4d22e23ca2bb.png\"/><link rel=\"icon\" type=\"image/png\" sizes=\"24x24\" href=\"/_next/static/media/icon-24-32dfd860d03fae33428bcfcabbc07df5.png\"/><link rel=\"icon\" type=\"image/png\" sizes=\"32x32\" href=\"/_next/static/media/icon-32-7974ce7fd55403bdd4174737b963d694.png\"/><link rel=\"icon\" type=\"image/png\" sizes=\"192x192\" href=\"/_next/static/media/icon-192-8ddcd08c7f194cf623c2e405e1689557.png\"/><link rel=\"apple-touch-icon\" type=\"image/png\" sizes=\"57x57\" href=\"/_next/static/media/icon-57-f33c45592fe2c81b9f6fa9f7689e0d17.png\"/><link rel=\"apple-touch-icon\" type=\"image/png\" sizes=\"72x72\" href=\"/_next/static/media/icon-72-4390490d91681428383d075d41977580.png\"/><link rel=\"apple-touch-icon\" type=\"image/png\" sizes=\"76x76\" href=\"/_next/static/media/icon-76-d6563e5ba905e13955938af1697d8015.png\"/><link rel=\"apple-touch-icon\" type=\"image/png\" sizes=\"114x114\" href=\"/_next/static/media/icon-114-b8fad6b9e2bc12d6516b58612539be50.png\"/><link rel=\"apple-touch-icon\" type=\"image/png\" sizes=\"120x120\" href=\"/_next/static/media/icon-120-f7c73abe77f9f8500bb2ab73cce5fa43.png\"/><link rel=\"apple-touch-icon\" type=\"image/png\" sizes=\"144x144\" href=\"/_next/static/media/icon-144-e29b1dfa92ae6b6288184429b165f543.png\"/><link rel=\"apple-touch-icon\" type=\"image/png\" sizes=\"152x152\" href=\"/_next/static/media/icon-152-298677be6ebcf68acf1efd932b138c47.png\"/><link rel=\"apple-touch-icon\" type=\"image/png\" sizes=\"180x180\" href=\"/_next/static/media/icon-180-53b4506f2ba6156616310137fa6f68a4.png\"/><link rel=\"shortcut icon\" type=\"image/png\" href=\"/_next/static/media/icon-32-7974ce7fd55403bdd4174737b963d694.png\"/><meta charSet=\"utf-8\"/><meta name=\"description\" content=\"廣受年輕人喜愛的 Dcard 是台灣最大的匿名交流平台，舉凡時事話題、感情心情、吃喝玩樂、學習工作等，都有卡友陪你聊！\"/><meta property=\"og:description\" content=\"廣受年輕人喜愛的 Dcard 是台灣最大的匿名交流平台，舉凡時事話題、感情心情、吃喝玩樂、學習工作等，都有卡友陪你聊！\"/><meta property=\"og:type\" content=\"website\"/><meta property=\"twitter:description\" content=\"廣受年輕人喜愛的 Dcard 是台灣最大的匿名交流平台，舉凡時事話題、感情心情、吃喝玩樂、學習工作等，都有卡友陪你聊！\"/><meta name=\"image\" itemProp=\"image\" content=\"https://www.dcard.tw/images/landing.png\"/><meta property=\"og:image\" content=\"https://www.dcard.tw/images/landing.png\"/><meta property=\"og:image:secure_url\" content=\"https://www.dcard.tw/images/landing.png\"/><meta property=\"twitter:image\" content=\"https://www.dcard.tw/images/landing.png\"/><link rel=\"preload\" as=\"image\" href=\"/_next/static/media/logo-2ef7b50901acaa284f36a0484329ec05.svg\"/><title>Dcard</title><link rel=\"canonical\" href=\"https://www.dcard.tw/f\"/><meta name=\"url\" itemProp=\"url\" content=\"https://www.dcard.tw/f\"/><meta name=\"viewport\" content=\"width=device-width, initial-scale=1, minimum-scale=1, viewport-fit=cover\"/><meta property=\"og:site_name\" content=\"Dcard\"/><meta property=\"og:title\" content=\"Dcard\"/><meta property=\"og:url\" content=\"https://www.dcard.tw/f\"/><meta property=\"twitter:title\" content=\"Dcard\"/><meta property=\"al:android:url\" content=\"dcard://category/all/%E5%85%A8%E9%83%A8/hot\"/><meta property=\"al:ios:url\" content=\"dcard://category\"/><script type=\"application/ld+json\">{\"@context\":\"https://schema.org\",\"@type\":\"CollectionPage\",\"name\":\"Dcard\",\"url\":\"https://www.dcard.tw/f\",\"description\":\"廣受年輕人喜愛的 Dcard 是台灣最大的匿名交流平台，舉凡時事話題、感情心情、吃喝玩樂、學習工作等，都有卡友陪你聊！\"}</script><script type=\"application/ld+json\">{\"@context\":\"https://schema.org\",\"@type\":\"BreadcrumbList\",\"itemListElement\":[{\"@type\":\"ListItem\",\"position\":1,\"name\":\"Dcard\",\"item\":\"https://www.dcard.tw\"},{\"@type\":\"ListItem\",\"position\":2,\"name\":\"全部\",\"item\":\"https://www.dcard.tw/f\"}]}</script><script type=\"application/ld+json\">{\"@context\":\"https://schema.org\",\"@type\":\"Organization\",\"url\":\"https://www.dcard.tw\",\"logo\":\"https://www.dcard.tw/images/favicon_512.png\"}</script><script>(function(d){var a=d.domain.match(/[-\\w]+\\.(dcard\\.(?:cc|hk|io|tw))$/);if(a){d.domain=a[1]}})(document);</script><script>window.dataLayer = window.dataLayer || [];\nwindow.dataLayer.push({'gtm.start': new Date().getTime(), event: 'gtm.js'});</script><link rel=\"preload\" as=\"script\" href=\"https://www.googletagmanager.com/gtm.js?id=GTM-TWLTW4M\"/><script defer=\"\" src=\"https://www.googletagmanager.com/gtm.js?id=GTM-TWLTW4M\"></script><meta name=\"next-head-count\" content=\"27\"/><link rel=\"preload\" href=\"/_next/static/css/d1186dd04f143b42311e.css\" as=\"style\"/><link rel=\"stylesheet\" href=\"/_next/static/css/d1186dd04f143b42311e.css\" data-n-g=\"\"/><link rel=\"preload\" href=\"/_next/static/css/7fbedb2bf2bfe8541bc3.css\" as=\"style\"/><link rel=\"stylesheet\" href=\"/_next/static/css/7fbedb2bf2bfe8541bc3.css\" data-n-p=\"\"/><noscript data-n-css=\"\"></noscript><link rel=\"preload\" href=\"/_next/static/chunks/c8f7fe3b0e41be846d5687592cf2018ff6e22687.6f7f3a3971053d181288.js\" as=\"script\"/><link rel=\"preload\" href=\"/_next/static/chunks/78d62a35dcc6dedda879910d5b00bd9d449f477e.1e374ce0d9681ede823b.js\" as=\"script\"/><link rel=\"preload\" href=\"/_next/static/chunks/193.58b01c59f4c6f3b711d3.js\" as=\"script\"/><link rel=\"preload\" href=\"/_next/static/chunks/133.8008b830aa64128819e1.js\" as=\"script\"/><link rel=\"preload\" href=\"/_next/static/chunks/d0e178a0b7a174cc355912fab2c2b5dbf6686e47.edc2251c4119d52577f9.js\" as=\"script\"/><link rel=\"preload\" href=\"/_next/static/chunks/142.cbc27c413bb1fd5e28b4.js\" as=\"script\"/><link rel=\"preload\" href=\"/_next/static/chunks/ddeb8ccf10a924ccb84e738c520b209d064c92ec.fbc0a96bd5262393519b.js\" as=\"script\"/><link rel=\"preload\" href=\"/_next/static/chunks/07ddc8feebba80388bd103699a5e8a2319231b85.b9b5d63438393eb093db.js\" as=\"script\"/><link rel=\"preload\" href=\"/_next/static/chunks/130.8ae16b3d54e855d03962.js\" as=\"script\"/><link rel=\"preload\" href=\"/_next/static/chunks/main-eb3b89a39aaec4994aa7.js\" as=\"script\"/><link rel=\"preload\" href=\"/_next/static/chunks/webpack-2642cd3fc330e6670f0b.js\" as=\"script\"/><link rel=\"preload\" href=\"/_next/static/chunks/framework.ae751f90465e16aa76b3.js\" as=\"script\"/><link rel=\"preload\" href=\"/_next/static/chunks/commons.8423de3b16ce600d5f67.js\" as=\"script\"/><link rel=\"preload\" href=\"/_next/static/chunks/dccd25a4c463633f108cbbc853ada3fe41251cea.a3e731bd1213f67795d6.js\" as=\"script\"/><link rel=\"preload\" href=\"/_next/static/chunks/269bdeabb25f62b2c9a251215553624bff7f92ae.8896d7e294921f757ab2.js\" as=\"script\"/><link rel=\"preload\" href=\"/_next/static/chunks/f8721c61a0b54f165a8389496a953d0738c3e51b.d6d9d41e6ff13464bf34.js\" as=\"script\"/><link rel=\"preload\" href=\"/_next/static/chunks/b75497125ac60cca393cc1cd1b9cb818f6b1f287.28d9d3c4b8e201ac908c.js\" as=\"script\"/><link rel=\"preload\" href=\"/_next/static/chunks/6d6f8ab4d673300c7f9fd6044ff46ced10b06fce.9ac4ca22408cbd17a3d9.js\" as=\"script\"/><link rel=\"preload\" href=\"/_next/static/chunks/a0a90e7cd7e608842a5a6b2dbd3f3a2250fade66.8c6d3c4017726a6c64f2.js\" as=\"\n"
     ]
    }
   ],
   "source": [
    "url = 'https://www.dcard.tw/f'\n",
    "\n",
    "r = requests.get(url, headers=headers)\n",
    "\n",
    "r.encoding = 'utf-8'\n",
    "print(r.text[0:9000])"
   ]
  },
  {
   "cell_type": "code",
   "execution_count": 10,
   "metadata": {},
   "outputs": [
    {
     "output_type": "stream",
     "name": "stdout",
     "text": [
      "Request 取回之後該怎麼取出資料，資料型態是什麼？ =>\n<class 'str'>\n"
     ]
    }
   ],
   "source": [
    "print('Request 取回之後該怎麼取出資料，資料型態是什麼？ =>')\n",
    "\n",
    "'''\n",
    "取出資料呼叫 r.text, 資料型態如下:\n",
    "'''\n",
    "print(type(r.text))"
   ]
  },
  {
   "cell_type": "code",
   "execution_count": 11,
   "metadata": {},
   "outputs": [
    {
     "output_type": "stream",
     "name": "stdout",
     "text": [
      "為什麼要使用 BeatifulSoup 處理？處理後的型態是什麼？ => \n",
      "<class 'bs4.BeautifulSoup'>\n"
     ]
    }
   ],
   "source": [
    "print('為什麼要使用 BeatifulSoup 處理？處理後的型態是什麼？ => ')\n",
    "\n",
    "'''\n",
    "將Html文字轉成具結構的物件, 處理後的型態如下:\n",
    "'''\n",
    "from bs4 import BeautifulSoup\n",
    "\n",
    "soup = BeautifulSoup(r.text, \"html5lib\")\n",
    "print(type(soup))"
   ]
  },
  {
   "cell_type": "markdown",
   "metadata": {},
   "source": [
    "### 2. 知乎： https://www.zhihu.com/explore"
   ]
  },
  {
   "cell_type": "code",
   "execution_count": 12,
   "metadata": {},
   "outputs": [
    {
     "output_type": "stream",
     "name": "stdout",
     "text": [
      "<html>\n<head><title>400 Bad Request</title></head>\n<body bgcolor=\"white\">\n<center><h1>400 Bad Request</h1></center>\n<hr><center>openresty</center>\n</body>\n</html>\n\n"
     ]
    }
   ],
   "source": [
    "url = 'https://www.zhihu.com/explore'\n",
    "r = requests.get(url)\n",
    "r.encoding = 'utf-8'\n",
    "\n",
    "print(r.text[0:600])"
   ]
  },
  {
   "cell_type": "markdown",
   "metadata": {},
   "source": [
    "### 3. 觀察一下知乎回來的資料好像有點怪怪的，該怎麼解決？"
   ]
  },
  {
   "cell_type": "code",
   "execution_count": 13,
   "metadata": {},
   "outputs": [
    {
     "output_type": "stream",
     "name": "stdout",
     "text": [
      "<!doctype html>\n<html lang=\"zh\" data-hairline=\"true\" data-theme=\"light\"><head><meta charSet=\"utf-8\"/><title data-react-helmet=\"true\">发现 - 知乎</title><meta name=\"viewport\" content=\"width=device-width,initial-scale=1,maximum-scale=1\"/><meta name=\"renderer\" content=\"webkit\"/><meta name=\"force-rendering\" content=\"webkit\"/><meta http-equiv=\"X-UA-Compatible\" content=\"IE=edge,chrome=1\"/><meta name=\"google-site-verification\" content=\"FTeR0c8arOPKh8c5DYh_9uu98_zJbaWw53J-Sch9MTg\"/><meta name=\"description\" property=\"og:description\" content=\"有问题，上知乎。知乎，可信赖的问答社区，以让每个人高效获得可信赖的解答为使命。知乎凭借认真、专业和友善的社区氛围，结构化、易获得的\n"
     ]
    }
   ],
   "source": [
    "import requests\n",
    "url = 'https://www.zhihu.com/explore'\n",
    "\n",
    "headers = {'user-agent': 'my-app/0.0.1'} # 知乎會檢查 header['user-agent'] 必須要有值\n",
    "r = requests.get(url, headers=headers)\n",
    "\n",
    "r.encoding = 'utf-8'\n",
    "print(r.text[0:600])"
   ]
  }
 ],
 "metadata": {
  "kernelspec": {
   "display_name": "Python 3",
   "language": "python",
   "name": "python3"
  },
  "language_info": {
   "codemirror_mode": {
    "name": "ipython",
    "version": 3
   },
   "file_extension": ".py",
   "mimetype": "text/x-python",
   "name": "python",
   "nbconvert_exporter": "python",
   "pygments_lexer": "ipython3",
   "version": "3.9.0-final"
  }
 },
 "nbformat": 4,
 "nbformat_minor": 2
}