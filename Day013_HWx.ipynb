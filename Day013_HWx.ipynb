{
 "cells": [
  {
   "cell_type": "markdown",
   "metadata": {},
   "source": [
    "# PTT 網路爬蟲實作練習\n",
    "\n",
    "\n",
    "* 能夠利用 Request + BeatifulSour 撰寫爬蟲，並存放到合適的資料結構\n"
   ]
  },
  {
   "cell_type": "markdown",
   "metadata": {},
   "source": [
    "## 作業目標\n",
    "\n",
    "根據範例 ，完成以下問題：\n",
    "\n",
    "* ① 印出最新文章的「作者」「標題」「時間」\n",
    "* ② 印出第一頁所有文章的「作者」「標題」「時間」\n"
   ]
  },
  {
   "cell_type": "code",
   "execution_count": 12,
   "metadata": {},
   "outputs": [],
   "source": [
    "import requests\n",
    "from bs4 import BeautifulSoup\n",
    "\n",
    "def execute_013(url):\n",
    "    r = requests.get(url, cookies={'over18': '1'})\n",
    "    soup = BeautifulSoup(r.text, \"html5lib\")\n",
    "    for d in soup.find_all(class_=\"title\"):\n",
    "        title = d.text.replace('\\t', '').replace('\\n', '')\n",
    "        url = d.find('a')['href']\n",
    "        author = d.parent.find(class_=\"meta\").find(class_=\"author\").text\n",
    "        article_date = d.parent.find(class_=\"meta\").find(class_=\"date\").text\n",
    "        try:\n",
    "            r = BeautifulSoup(requests.get('https://www.ptt.cc'+url).text, \"html5lib\")\n",
    "            meta_values = r.find_all(class_='article-meta-value')\n",
    "            if meta_values:\n",
    "                author = meta_values[0].text\n",
    "                article_date = meta_values[3].text\n",
    "        except:\n",
    "            continue\n",
    "        print('作者(%s), 標題(%s), 時間(%s)' % (author, title, article_date))"
   ]
  },
  {
   "cell_type": "code",
   "execution_count": 11,
   "metadata": {},
   "outputs": [
    {
     "output_type": "stream",
     "name": "stdout",
     "text": [
      "作者(thnlkj0665 (灰色地帶)), 標題([新聞] 力挺快艇到底? 小范甘迪：仍是冠軍級別球隊), 時間(Sun Nov 29 15:42:37 2020)\n",
      "作者(jjosh2134 (ratual)), 標題(Re: [討論] 當初小牛棄DSJ的操作是正確的吧), 時間(Sun Nov 29 15:42:45 2020)\n",
      "作者(pneumo (超☆冒險蓋)), 標題([花邊] 看到IT遭遇 AD爸:我絕不會讓他替青賽打球), 時間(Sun Nov 29 16:10:34 2020)\n",
      "作者(FAYeeeeeeee (Fay)), 標題([外絮]  西區休賽季操作後目前戰力排行), 時間(Sun Nov 29 16:35:30 2020)\n",
      "作者(Vedan), 標題([公告] 板規v6.8), 時間( 5/24)\n",
      "作者(namie810303 (爽喔!! 你看看你)), 標題([公告] 季後賽條款於10/14零時解除), 時間(Tue Oct 13 22:39:02 2020)\n",
      "作者(namie810303 (爽喔!! 你看看你)), 標題([公告] 關於交易簽約相關情報文不限額度 ), 時間(Tue Nov 17 08:59:56 2020)\n",
      "作者(laigei), 標題([情報] 2020-21 自由球員市場異動 (表格)(11/27)), 時間(11/19)\n",
      "作者(laigei), 標題([情報] 2020-21 自由球員市場異動 (每日文字)  ), 時間(11/19)\n"
     ]
    }
   ],
   "source": [
    "execute_013('https://www.ptt.cc/bbs/NBA/index.html')"
   ]
  },
  {
   "cell_type": "markdown",
   "metadata": {},
   "source": [
    "### ② 印出第一頁所有文章的「作者」「標題」「時間」"
   ]
  },
  {
   "cell_type": "code",
   "execution_count": 14,
   "metadata": {},
   "outputs": [
    {
     "output_type": "stream",
     "name": "stdout",
     "text": [
      "作者(Price (Price)), 標題([轉錄]Lyotard 對於太陽板討論串的結論), 時間(Sun May 16 01:54:33 2004)\n",
      "作者(Price (Price)), 標題([公告] 請停止一切關於本次活動的發言), 時間(Mon May 24 00:43:00 2004)\n",
      "作者(Frankaze (神采風華)), 標題([轉錄]跟之前那篇比起來 我覺得這篇也應該轉過來), 時間(Tue Jun  8 01:16:45 2004)\n",
      "作者(Frankaze (神采風華)), 標題([轉錄]再轉一篇好文來), 時間(Tue Jun  8 09:02:23 2004)\n",
      "作者(Price (Price)), 標題([轉錄][情報] 夏洛特山貓系列), 時間(Thu Jun 10 00:39:35 2004)\n",
      "作者(Price (Price)), 標題([轉錄]Re: [心得] 真是受不了糗爺....), 時間(Thu Jun 10 00:51:35 2004)\n",
      "作者(Price (Price)), 標題([轉錄]總冠軍賽NO.2觀後感), 時間(Thu Jun 10 12:05:07 2004)\n",
      "作者(AmuroNamie (原來太嗨真的會失眠^___^)), 標題([心得] Rasheed Wallace), 時間(Fri Jun 11 15:06:09 2004)\n",
      "作者(toptree (  )), 標題(掌控球賽的男人), 時間(Sat Jun 12 07:13:04 2004)\n",
      "作者(skchang (3EB板開板囉！)), 標題([閒聊] 說說2004季後賽名場面回顧), 時間(Sat Jun 12 13:21:49 2004)\n",
      "作者(shineup ()), 標題([心得] 其實說穿了 就是活塞的防守太可怕了), 時間(Sat Jun 12 13:12:47 2004)\n",
      "作者(cOvi (喵~)), 標題(Re: [閒聊] 說說2004季後賽名場面回顧), 時間(Sat Jun 12 16:43:07 2004)\n",
      "作者(ykshih (￼N￼Ns)), 標題(Re: [閒聊] 說說2004季後賽名場面回顧), 時間(Sat Jun 12 17:26:37 2004)\n",
      "作者(Frankaze (神采風華)), 標題(Re: [閒聊] 說說2004季後賽名場面回顧), 時間(Sat Jun 12 18:34:46 2004)\n",
      "作者(Price (Price)), 標題([轉錄]Re: 總冠軍賽NO.3觀後感), 時間(Mon Jun 14 02:18:52 2004)\n",
      "作者(Frankaze (神采風華)), 標題([轉錄]Re: 總冠軍賽NO.3觀後感), 時間(Mon Jun 14 02:34:33 2004)\n",
      "作者(star1 (第一次魔術表演不算成功)), 標題(Re: [轉錄]Re: 總冠軍賽NO.3觀後感), 時間(Mon Jun 14 07:16:30 2004)\n",
      "作者(coldspring (笑笑)), 標題(Re: [轉錄]Re: 總冠軍賽NO.3觀後感), 時間(Mon Jun 14 09:24:57 2004)\n",
      "作者(airbear (地圖)), 標題(Re: Kobe is frustrated...), 時間(Mon Jun 14 12:56:14 2004)\n",
      "作者(pennykidd (andre)), 標題(Re: [轉錄]Re: 總冠軍賽NO.3觀後感), 時間(Mon Jun 14 22:07:01 2004)\n"
     ]
    }
   ],
   "source": [
    "execute_013('https://www.ptt.cc/bbs/NBA/index1.html')"
   ]
  },
  {
   "cell_type": "markdown",
   "metadata": {},
   "source": [
    "### ③ 試著爬爬看其他版的文章"
   ]
  },
  {
   "cell_type": "code",
   "execution_count": 13,
   "metadata": {},
   "outputs": [
    {
     "output_type": "stream",
     "name": "stdout",
     "text": [
      "作者(femininesex1), 標題([心得] 鼓起勇氣的情趣用品初體驗  ), 時間(11/18)\n",
      "作者(Ensidia), 標題(Re: [討論] 男友覺得進來沒感覺 ), 時間(11/18)\n",
      "作者(fifthfloorme), 標題([心情] 生理期拉肚子，非常困擾), 時間(11/21)\n",
      "作者(femininesex1), 標題([討論] 遠距離怎麼幫男友解決性慾), 時間(11/22)\n",
      "作者(femininesex1), 標題([心得] 我以為男友是處男), 時間(11/22)\n",
      "作者(femininesex1), 標題([討論] 做愛過程陰道變化), 時間(11/22)\n",
      "作者(twweenn), 標題([心得] 自己來的陰蒂陰道高潮方式分享), 時間(11/23)\n",
      "作者(queshiw), 標題([問題] 益生菌樂伊妥、薈舒芙), 時間(11/23)\n",
      "作者(kaela), 標題([問題] 喝醉後會軟), 時間(11/23)\n",
      "作者(Lalef), 標題(Re: [心得] 我以為男友是處), 時間(11/25)\n",
      "作者(chanel0605), 標題([討論] 褲型衛生棉疑問), 時間(11/26)\n",
      "作者(pc2934), 標題([討論] 女生緊不緊跟性福度有關?), 時間(11/27)\n",
      "作者(SharronHuang), 標題(Re: [心得] 我以為男友是處), 時間(11/29)\n",
      "作者(femininesex1), 標題([公告] 匿名信箱 femininesex1 使用說明請看這裡), 時間( 8/14)\n",
      "作者(zvezda), 標題([公告] 必讀!女性性板♀發文注意事項＆常見問題集), 時間(12/21)\n",
      "作者(tracy0620), 標題([心得] 預防騷擾的辦法), 時間(12/21)\n",
      "作者(zvezda), 標題([公告] feminine_sex板規 14.2), 時間( 4/10)\n"
     ]
    }
   ],
   "source": [
    "execute_013('https://www.ptt.cc/bbs/feminine_sex/index.html')"
   ]
  }
 ],
 "metadata": {
  "kernelspec": {
   "display_name": "Python 3",
   "language": "python",
   "name": "python3"
  },
  "language_info": {
   "codemirror_mode": {
    "name": "ipython",
    "version": 3
   },
   "file_extension": ".py",
   "mimetype": "text/x-python",
   "name": "python",
   "nbconvert_exporter": "python",
   "pygments_lexer": "ipython3",
   "version": "3.9.0-final"
  }
 },
 "nbformat": 4,
 "nbformat_minor": 2
}